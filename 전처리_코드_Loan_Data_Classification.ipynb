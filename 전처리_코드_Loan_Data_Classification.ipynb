{
  "nbformat": 4,
  "nbformat_minor": 0,
  "metadata": {
    "colab": {
      "name": "전처리 코드_Loan Data Classification.ipynb",
      "provenance": [],
      "toc_visible": true,
      "mount_file_id": "12AMD3LZ78zQUHSMTrg01RE_UrX_45IU7",
      "authorship_tag": "ABX9TyOjLhzhYMuRvmehI+hffmMc",
      "include_colab_link": true
    },
    "kernelspec": {
      "name": "python3",
      "display_name": "Python 3"
    },
    "language_info": {
      "name": "python"
    }
  },
  "cells": [
    {
      "cell_type": "markdown",
      "metadata": {
        "id": "view-in-github",
        "colab_type": "text"
      },
      "source": [
        "<a href=\"https://colab.research.google.com/github/soeun727/AI-Project-loan_payment/blob/main/%EC%A0%84%EC%B2%98%EB%A6%AC_%EC%BD%94%EB%93%9C_Loan_Data_Classification.ipynb\" target=\"_parent\"><img src=\"https://colab.research.google.com/assets/colab-badge.svg\" alt=\"Open In Colab\"/></a>"
      ]
    },
    {
      "cell_type": "markdown",
      "metadata": {
        "id": "rBg5n6sjfuus"
      },
      "source": [
        "# **데이터 전처리**"
      ]
    },
    {
      "cell_type": "code",
      "metadata": {
        "colab": {
          "base_uri": "https://localhost:8080/",
          "height": 202
        },
        "id": "G0oAI_A79LZW",
        "outputId": "6b128b7c-0f91-4e2b-b45b-deb11c701f9b"
      },
      "source": [
        "# 원본 데이터 불러오기\n",
        "import numpy as np\n",
        "import pandas as pd\n",
        "df = pd.read_csv(\"/content/drive/MyDrive/AI test/loan_payment analysis/Loan payments data_원본.csv\")\n",
        "\n",
        "df.head()"
      ],
      "execution_count": null,
      "outputs": [
        {
          "output_type": "execute_result",
          "data": {
            "text/html": [
              "<div>\n",
              "<style scoped>\n",
              "    .dataframe tbody tr th:only-of-type {\n",
              "        vertical-align: middle;\n",
              "    }\n",
              "\n",
              "    .dataframe tbody tr th {\n",
              "        vertical-align: top;\n",
              "    }\n",
              "\n",
              "    .dataframe thead th {\n",
              "        text-align: right;\n",
              "    }\n",
              "</style>\n",
              "<table border=\"1\" class=\"dataframe\">\n",
              "  <thead>\n",
              "    <tr style=\"text-align: right;\">\n",
              "      <th></th>\n",
              "      <th>Loan_ID</th>\n",
              "      <th>loan_status</th>\n",
              "      <th>Principal</th>\n",
              "      <th>terms</th>\n",
              "      <th>effective_date</th>\n",
              "      <th>due_date</th>\n",
              "      <th>paid_off_time</th>\n",
              "      <th>past_due_days</th>\n",
              "      <th>age</th>\n",
              "      <th>education</th>\n",
              "      <th>Gender</th>\n",
              "    </tr>\n",
              "  </thead>\n",
              "  <tbody>\n",
              "    <tr>\n",
              "      <th>0</th>\n",
              "      <td>xqd20166231</td>\n",
              "      <td>PAIDOFF</td>\n",
              "      <td>1000</td>\n",
              "      <td>30</td>\n",
              "      <td>9/8/2016</td>\n",
              "      <td>10/7/2016</td>\n",
              "      <td>9/14/2016 19:31</td>\n",
              "      <td>NaN</td>\n",
              "      <td>45</td>\n",
              "      <td>High School or Below</td>\n",
              "      <td>male</td>\n",
              "    </tr>\n",
              "    <tr>\n",
              "      <th>1</th>\n",
              "      <td>xqd20168902</td>\n",
              "      <td>PAIDOFF</td>\n",
              "      <td>1000</td>\n",
              "      <td>30</td>\n",
              "      <td>9/8/2016</td>\n",
              "      <td>10/7/2016</td>\n",
              "      <td>10/7/2016 9:00</td>\n",
              "      <td>NaN</td>\n",
              "      <td>50</td>\n",
              "      <td>Bechalor</td>\n",
              "      <td>female</td>\n",
              "    </tr>\n",
              "    <tr>\n",
              "      <th>2</th>\n",
              "      <td>xqd20160003</td>\n",
              "      <td>PAIDOFF</td>\n",
              "      <td>1000</td>\n",
              "      <td>30</td>\n",
              "      <td>9/8/2016</td>\n",
              "      <td>10/7/2016</td>\n",
              "      <td>9/25/2016 16:58</td>\n",
              "      <td>NaN</td>\n",
              "      <td>33</td>\n",
              "      <td>Bechalor</td>\n",
              "      <td>female</td>\n",
              "    </tr>\n",
              "    <tr>\n",
              "      <th>3</th>\n",
              "      <td>xqd20160004</td>\n",
              "      <td>PAIDOFF</td>\n",
              "      <td>1000</td>\n",
              "      <td>15</td>\n",
              "      <td>9/8/2016</td>\n",
              "      <td>9/22/2016</td>\n",
              "      <td>9/22/2016 20:00</td>\n",
              "      <td>NaN</td>\n",
              "      <td>27</td>\n",
              "      <td>college</td>\n",
              "      <td>male</td>\n",
              "    </tr>\n",
              "    <tr>\n",
              "      <th>4</th>\n",
              "      <td>xqd20160005</td>\n",
              "      <td>PAIDOFF</td>\n",
              "      <td>1000</td>\n",
              "      <td>30</td>\n",
              "      <td>9/9/2016</td>\n",
              "      <td>10/8/2016</td>\n",
              "      <td>9/23/2016 21:36</td>\n",
              "      <td>NaN</td>\n",
              "      <td>28</td>\n",
              "      <td>college</td>\n",
              "      <td>female</td>\n",
              "    </tr>\n",
              "  </tbody>\n",
              "</table>\n",
              "</div>"
            ],
            "text/plain": [
              "       Loan_ID loan_status  Principal  ...  age             education  Gender\n",
              "0  xqd20166231     PAIDOFF       1000  ...   45  High School or Below    male\n",
              "1  xqd20168902     PAIDOFF       1000  ...   50              Bechalor  female\n",
              "2  xqd20160003     PAIDOFF       1000  ...   33              Bechalor  female\n",
              "3  xqd20160004     PAIDOFF       1000  ...   27               college    male\n",
              "4  xqd20160005     PAIDOFF       1000  ...   28               college  female\n",
              "\n",
              "[5 rows x 11 columns]"
            ]
          },
          "metadata": {
            "tags": []
          },
          "execution_count": 14
        }
      ]
    },
    {
      "cell_type": "code",
      "metadata": {
        "id": "9XjsvtLVSDGS",
        "colab": {
          "base_uri": "https://localhost:8080/"
        },
        "outputId": "715c1b9a-71fd-41e7-b3b2-6677e0725391"
      },
      "source": [
        "df.info()"
      ],
      "execution_count": null,
      "outputs": [
        {
          "output_type": "stream",
          "text": [
            "<class 'pandas.core.frame.DataFrame'>\n",
            "RangeIndex: 500 entries, 0 to 499\n",
            "Data columns (total 11 columns):\n",
            " #   Column          Non-Null Count  Dtype  \n",
            "---  ------          --------------  -----  \n",
            " 0   Loan_ID         500 non-null    object \n",
            " 1   loan_status     500 non-null    object \n",
            " 2   Principal       500 non-null    int64  \n",
            " 3   terms           500 non-null    int64  \n",
            " 4   effective_date  500 non-null    object \n",
            " 5   due_date        500 non-null    object \n",
            " 6   paid_off_time   400 non-null    object \n",
            " 7   past_due_days   200 non-null    float64\n",
            " 8   age             500 non-null    int64  \n",
            " 9   education       500 non-null    object \n",
            " 10  Gender          500 non-null    object \n",
            "dtypes: float64(1), int64(3), object(7)\n",
            "memory usage: 43.1+ KB\n"
          ],
          "name": "stdout"
        }
      ]
    },
    {
      "cell_type": "code",
      "metadata": {
        "colab": {
          "base_uri": "https://localhost:8080/"
        },
        "id": "IflgJLEI40FS",
        "outputId": "648b61ed-117c-438d-d760-eedd19f93198"
      },
      "source": [
        "df['loan_status'].unique()"
      ],
      "execution_count": null,
      "outputs": [
        {
          "output_type": "execute_result",
          "data": {
            "text/plain": [
              "array(['PAIDOFF', 'COLLECTION', 'COLLECTION_PAIDOFF'], dtype=object)"
            ]
          },
          "metadata": {
            "tags": []
          },
          "execution_count": 7
        }
      ]
    },
    {
      "cell_type": "code",
      "metadata": {
        "colab": {
          "base_uri": "https://localhost:8080/"
        },
        "id": "HV7cPdMO5B8K",
        "outputId": "12011627-394d-4581-f22d-0ff19fb742dd"
      },
      "source": [
        "df['education'].unique()"
      ],
      "execution_count": null,
      "outputs": [
        {
          "output_type": "execute_result",
          "data": {
            "text/plain": [
              "array(['High School or Below', 'Bechalor', 'college', 'Master or Above'],\n",
              "      dtype=object)"
            ]
          },
          "metadata": {
            "tags": []
          },
          "execution_count": 8
        }
      ]
    },
    {
      "cell_type": "code",
      "metadata": {
        "colab": {
          "base_uri": "https://localhost:8080/"
        },
        "id": "ya35W3ca5DLJ",
        "outputId": "8b4cdb8e-8bed-4549-f678-e02f320f07ed"
      },
      "source": [
        "df['Gender'].unique()"
      ],
      "execution_count": null,
      "outputs": [
        {
          "output_type": "execute_result",
          "data": {
            "text/plain": [
              "array(['male', 'female'], dtype=object)"
            ]
          },
          "metadata": {
            "tags": []
          },
          "execution_count": 9
        }
      ]
    },
    {
      "cell_type": "markdown",
      "metadata": {
        "id": "IKGw72_jgw-R"
      },
      "source": [
        "**▼ 불필요한 열 삭제**\n",
        "\n",
        "\n",
        "*   Loan_ID\n",
        "*   effective_date\n",
        "* due_date\n",
        "* paid_off_time\n",
        "* past_due_days\n",
        "\n"
      ]
    },
    {
      "cell_type": "code",
      "metadata": {
        "colab": {
          "base_uri": "https://localhost:8080/",
          "height": 202
        },
        "id": "XDvcQ1z__mAE",
        "outputId": "d48f3f68-50d9-43fc-dc3d-6f1926f821af"
      },
      "source": [
        "# 사용하지 않을 4개의 열 삭제\n",
        "df.drop(['Loan_ID', 'effective_date', 'due_date' , 'paid_off_time', 'past_due_days'] ,axis = 1, inplace = True)\n",
        "df.head()"
      ],
      "execution_count": null,
      "outputs": [
        {
          "output_type": "execute_result",
          "data": {
            "text/html": [
              "<div>\n",
              "<style scoped>\n",
              "    .dataframe tbody tr th:only-of-type {\n",
              "        vertical-align: middle;\n",
              "    }\n",
              "\n",
              "    .dataframe tbody tr th {\n",
              "        vertical-align: top;\n",
              "    }\n",
              "\n",
              "    .dataframe thead th {\n",
              "        text-align: right;\n",
              "    }\n",
              "</style>\n",
              "<table border=\"1\" class=\"dataframe\">\n",
              "  <thead>\n",
              "    <tr style=\"text-align: right;\">\n",
              "      <th></th>\n",
              "      <th>loan_status</th>\n",
              "      <th>Principal</th>\n",
              "      <th>terms</th>\n",
              "      <th>age</th>\n",
              "      <th>education</th>\n",
              "      <th>Gender</th>\n",
              "    </tr>\n",
              "  </thead>\n",
              "  <tbody>\n",
              "    <tr>\n",
              "      <th>0</th>\n",
              "      <td>PAIDOFF</td>\n",
              "      <td>1000</td>\n",
              "      <td>30</td>\n",
              "      <td>45</td>\n",
              "      <td>High School or Below</td>\n",
              "      <td>male</td>\n",
              "    </tr>\n",
              "    <tr>\n",
              "      <th>1</th>\n",
              "      <td>PAIDOFF</td>\n",
              "      <td>1000</td>\n",
              "      <td>30</td>\n",
              "      <td>50</td>\n",
              "      <td>Bechalor</td>\n",
              "      <td>female</td>\n",
              "    </tr>\n",
              "    <tr>\n",
              "      <th>2</th>\n",
              "      <td>PAIDOFF</td>\n",
              "      <td>1000</td>\n",
              "      <td>30</td>\n",
              "      <td>33</td>\n",
              "      <td>Bechalor</td>\n",
              "      <td>female</td>\n",
              "    </tr>\n",
              "    <tr>\n",
              "      <th>3</th>\n",
              "      <td>PAIDOFF</td>\n",
              "      <td>1000</td>\n",
              "      <td>15</td>\n",
              "      <td>27</td>\n",
              "      <td>college</td>\n",
              "      <td>male</td>\n",
              "    </tr>\n",
              "    <tr>\n",
              "      <th>4</th>\n",
              "      <td>PAIDOFF</td>\n",
              "      <td>1000</td>\n",
              "      <td>30</td>\n",
              "      <td>28</td>\n",
              "      <td>college</td>\n",
              "      <td>female</td>\n",
              "    </tr>\n",
              "  </tbody>\n",
              "</table>\n",
              "</div>"
            ],
            "text/plain": [
              "  loan_status  Principal  terms  age             education  Gender\n",
              "0     PAIDOFF       1000     30   45  High School or Below    male\n",
              "1     PAIDOFF       1000     30   50              Bechalor  female\n",
              "2     PAIDOFF       1000     30   33              Bechalor  female\n",
              "3     PAIDOFF       1000     15   27               college    male\n",
              "4     PAIDOFF       1000     30   28               college  female"
            ]
          },
          "metadata": {
            "tags": []
          },
          "execution_count": 10
        }
      ]
    },
    {
      "cell_type": "markdown",
      "metadata": {
        "id": "GzLK_G8Wf9PL"
      },
      "source": [
        "\n",
        "**▼ 문자열을 정수값으로 변환**\n",
        "* loan_status: {'PAIDOFF': 0, 'COLLECTION': 1, 'COLLECTION_PAIDOFF': 2}\n",
        "*   education: {'High School or Below': 0, 'college': 1, 'Master or Above': 3}\n",
        "*   Gender: {'female': 0, 'male': 1}\n",
        "\n",
        "\n"
      ]
    },
    {
      "cell_type": "code",
      "metadata": {
        "colab": {
          "base_uri": "https://localhost:8080/",
          "height": 202
        },
        "id": "RCCfVQdlmGvb",
        "outputId": "ab9b72d3-6540-4849-e31e-ed84d3f25089"
      },
      "source": [
        "df[\"loan_status\"]= df[\"loan_status\"].replace(['PAIDOFF', 'COLLECTION', 'COLLECTION_PAIDOFF'],[\"0\",\"1\",\"2\"])\n",
        "df[\"education\"]= df[\"education\"].replace(['High School or Below', 'college', 'Bechalor', 'Master or Above'],[\"0\",\"1\",\"2\",\"3\"])\n",
        "df[\"Gender\"]= df[\"Gender\"].replace(['female', 'male'],[\"0\",\"1\"])\n",
        "df.head()"
      ],
      "execution_count": null,
      "outputs": [
        {
          "output_type": "execute_result",
          "data": {
            "text/html": [
              "<div>\n",
              "<style scoped>\n",
              "    .dataframe tbody tr th:only-of-type {\n",
              "        vertical-align: middle;\n",
              "    }\n",
              "\n",
              "    .dataframe tbody tr th {\n",
              "        vertical-align: top;\n",
              "    }\n",
              "\n",
              "    .dataframe thead th {\n",
              "        text-align: right;\n",
              "    }\n",
              "</style>\n",
              "<table border=\"1\" class=\"dataframe\">\n",
              "  <thead>\n",
              "    <tr style=\"text-align: right;\">\n",
              "      <th></th>\n",
              "      <th>loan_status</th>\n",
              "      <th>Principal</th>\n",
              "      <th>terms</th>\n",
              "      <th>age</th>\n",
              "      <th>education</th>\n",
              "      <th>Gender</th>\n",
              "    </tr>\n",
              "  </thead>\n",
              "  <tbody>\n",
              "    <tr>\n",
              "      <th>0</th>\n",
              "      <td>0</td>\n",
              "      <td>1000</td>\n",
              "      <td>30</td>\n",
              "      <td>45</td>\n",
              "      <td>0</td>\n",
              "      <td>1</td>\n",
              "    </tr>\n",
              "    <tr>\n",
              "      <th>1</th>\n",
              "      <td>0</td>\n",
              "      <td>1000</td>\n",
              "      <td>30</td>\n",
              "      <td>50</td>\n",
              "      <td>2</td>\n",
              "      <td>0</td>\n",
              "    </tr>\n",
              "    <tr>\n",
              "      <th>2</th>\n",
              "      <td>0</td>\n",
              "      <td>1000</td>\n",
              "      <td>30</td>\n",
              "      <td>33</td>\n",
              "      <td>2</td>\n",
              "      <td>0</td>\n",
              "    </tr>\n",
              "    <tr>\n",
              "      <th>3</th>\n",
              "      <td>0</td>\n",
              "      <td>1000</td>\n",
              "      <td>15</td>\n",
              "      <td>27</td>\n",
              "      <td>1</td>\n",
              "      <td>1</td>\n",
              "    </tr>\n",
              "    <tr>\n",
              "      <th>4</th>\n",
              "      <td>0</td>\n",
              "      <td>1000</td>\n",
              "      <td>30</td>\n",
              "      <td>28</td>\n",
              "      <td>1</td>\n",
              "      <td>0</td>\n",
              "    </tr>\n",
              "  </tbody>\n",
              "</table>\n",
              "</div>"
            ],
            "text/plain": [
              "  loan_status  Principal  terms  age education Gender\n",
              "0           0       1000     30   45         0      1\n",
              "1           0       1000     30   50         2      0\n",
              "2           0       1000     30   33         2      0\n",
              "3           0       1000     15   27         1      1\n",
              "4           0       1000     30   28         1      0"
            ]
          },
          "metadata": {
            "tags": []
          },
          "execution_count": 12
        }
      ]
    },
    {
      "cell_type": "code",
      "metadata": {
        "id": "g_3e23kYDfne"
      },
      "source": [
        "# 전처리가 적용된 데이터 뽑기\n",
        "df_preprocessed = df.to_csv('Loan payments data_PreProcessed.csv')"
      ],
      "execution_count": null,
      "outputs": []
    },
    {
      "cell_type": "markdown",
      "metadata": {
        "id": "hEpw9FeIhbbU"
      },
      "source": [
        "# **데이터셋 분리**\n",
        "\n",
        "\n",
        "*   train_data : test_data = 7 : 3\n",
        "\n"
      ]
    },
    {
      "cell_type": "code",
      "metadata": {
        "id": "TgQbgDMBEgIh"
      },
      "source": [
        "from sklearn.model_selection import train_test_split\n",
        "\n",
        "X = df.iloc[1:501,1:].values\n",
        "y = df.iloc[1:501,0].values\n",
        "X_train, X_test, y_train, y_test = train_test_split(X, y, test_size=0.3,random_state=42)"
      ],
      "execution_count": null,
      "outputs": []
    },
    {
      "cell_type": "code",
      "metadata": {
        "id": "tLDm1_N9EgLr",
        "colab": {
          "base_uri": "https://localhost:8080/"
        },
        "outputId": "9eda88db-abf1-4279-d21b-846f1a91a0bf"
      },
      "source": [
        "df_train = pd.DataFrame(X_train)\n",
        "df_train.to_csv('Loan payments data_X_train.csv', index=False)\n",
        "print(X_train)"
      ],
      "execution_count": null,
      "outputs": [
        {
          "output_type": "stream",
          "text": [
            "[[1000 30 26 '1' '1']\n",
            " [1000 30 26 '2' '1']\n",
            " [1000 30 28 '1' '0']\n",
            " ...\n",
            " [800 15 29 '1' '1']\n",
            " [1000 30 24 '0' '1']\n",
            " [1000 15 45 '0' '1']]\n"
          ],
          "name": "stdout"
        }
      ]
    },
    {
      "cell_type": "code",
      "metadata": {
        "id": "kg9DgtQ8XJkg",
        "colab": {
          "base_uri": "https://localhost:8080/"
        },
        "outputId": "b88b570b-f434-4265-b7e0-51a1de92b899"
      },
      "source": [
        "df_test = pd.DataFrame(X_test)\n",
        "df_test.to_csv('Loan payments data_X_test.csv', index=False)\n",
        "print(X_test)"
      ],
      "execution_count": null,
      "outputs": [
        {
          "output_type": "stream",
          "text": [
            "[[1000 30 38 '0' '1']\n",
            " [1000 15 25 '1' '1']\n",
            " [1000 30 37 '1' '1']\n",
            " [1000 30 38 '0' '1']\n",
            " [1000 15 29 '1' '1']\n",
            " [1000 30 33 '1' '1']\n",
            " [1000 15 26 '2' '1']\n",
            " [1000 30 27 '0' '1']\n",
            " [800 15 32 '1' '1']\n",
            " [300 7 29 '1' '1']\n",
            " [1000 30 30 '1' '1']\n",
            " [800 30 23 '1' '0']\n",
            " [1000 30 41 '0' '1']\n",
            " [1000 30 27 '0' '0']\n",
            " [1000 30 30 '1' '1']\n",
            " [1000 30 28 '0' '1']\n",
            " [1000 15 37 '1' '1']\n",
            " [1000 30 37 '1' '1']\n",
            " [1000 15 47 '0' '1']\n",
            " [1000 30 38 '0' '1']\n",
            " [1000 15 24 '0' '1']\n",
            " [1000 15 30 '1' '0']\n",
            " [1000 30 30 '0' '1']\n",
            " [1000 15 34 '1' '1']\n",
            " [800 15 24 '0' '1']\n",
            " [1000 30 33 '0' '1']\n",
            " [1000 30 18 '1' '1']\n",
            " [1000 30 30 '1' '1']\n",
            " [1000 30 37 '1' '0']\n",
            " [1000 30 43 '2' '1']\n",
            " [1000 30 26 '1' '0']\n",
            " [1000 30 35 '1' '1']\n",
            " [800 15 35 '1' '1']\n",
            " [1000 15 27 '1' '1']\n",
            " [1000 30 30 '0' '0']\n",
            " [1000 30 28 '0' '1']\n",
            " [1000 15 27 '0' '1']\n",
            " [800 15 30 '0' '1']\n",
            " [1000 30 24 '1' '1']\n",
            " [1000 30 34 '2' '1']\n",
            " [1000 30 29 '1' '1']\n",
            " [1000 30 30 '1' '1']\n",
            " [800 15 33 '1' '1']\n",
            " [1000 15 29 '0' '1']\n",
            " [1000 30 50 '2' '0']\n",
            " [1000 30 26 '1' '1']\n",
            " [1000 30 38 '1' '0']\n",
            " [800 15 39 '0' '1']\n",
            " [1000 30 33 '1' '1']\n",
            " [1000 30 45 '0' '1']\n",
            " [800 15 31 '2' '0']\n",
            " [1000 30 38 '1' '1']\n",
            " [800 15 35 '0' '1']\n",
            " [1000 30 35 '2' '1']\n",
            " [800 30 26 '1' '1']\n",
            " [1000 30 26 '0' '1']\n",
            " [1000 15 32 '2' '1']\n",
            " [1000 30 28 '0' '1']\n",
            " [1000 30 29 '1' '1']\n",
            " [1000 30 29 '0' '1']\n",
            " [1000 30 33 '1' '1']\n",
            " [1000 15 32 '1' '0']\n",
            " [800 15 41 '1' '1']\n",
            " [1000 30 20 '1' '1']\n",
            " [800 30 31 '1' '1']\n",
            " [1000 30 34 '1' '1']\n",
            " [1000 30 35 '0' '1']\n",
            " [800 15 29 '0' '1']\n",
            " [1000 15 32 '0' '1']\n",
            " [1000 15 35 '2' '0']\n",
            " [1000 30 27 '1' '1']\n",
            " [1000 30 33 '1' '0']\n",
            " [1000 7 32 '2' '0']\n",
            " [800 15 29 '1' '1']\n",
            " [1000 15 29 '1' '1']\n",
            " [1000 30 28 '1' '1']\n",
            " [800 15 26 '1' '1']\n",
            " [1000 30 44 '0' '0']\n",
            " [800 15 33 '1' '1']\n",
            " [1000 30 42 '0' '0']\n",
            " [1000 30 28 '0' '1']\n",
            " [1000 30 38 '0' '1']\n",
            " [1000 30 26 '0' '1']\n",
            " [1000 15 22 '0' '1']\n",
            " [800 15 27 '1' '1']\n",
            " [1000 30 26 '1' '1']\n",
            " [1000 30 23 '0' '1']\n",
            " [1000 15 33 '1' '1']\n",
            " [800 15 43 '0' '1']\n",
            " [800 30 40 '1' '0']\n",
            " [800 15 40 '1' '1']\n",
            " [1000 30 27 '1' '0']\n",
            " [1000 30 31 '2' '1']\n",
            " [1000 30 25 '1' '0']\n",
            " [1000 30 40 '0' '1']\n",
            " [1000 30 35 '0' '1']\n",
            " [1000 30 26 '0' '1']\n",
            " [1000 30 26 '1' '1']\n",
            " [1000 30 37 '1' '1']\n",
            " [1000 30 21 '0' '1']\n",
            " [1000 30 26 '2' '1']\n",
            " [800 15 26 '0' '1']\n",
            " [1000 15 28 '2' '1']\n",
            " [1000 30 35 '2' '1']\n",
            " [1000 30 39 '1' '1']\n",
            " [1000 30 29 '1' '1']\n",
            " [1000 15 24 '1' '1']\n",
            " [1000 30 33 '1' '1']\n",
            " [800 15 39 '2' '1']\n",
            " [1000 15 27 '1' '1']\n",
            " [300 7 29 '0' '1']\n",
            " [1000 30 34 '0' '1']\n",
            " [1000 30 36 '0' '0']\n",
            " [1000 15 30 '1' '1']\n",
            " [800 15 33 '0' '1']\n",
            " [800 15 37 '0' '1']\n",
            " [800 15 36 '1' '1']\n",
            " [1000 30 27 '2' '1']\n",
            " [1000 15 25 '0' '1']\n",
            " [1000 30 20 '0' '1']\n",
            " [800 15 25 '0' '1']\n",
            " [800 15 27 '1' '0']\n",
            " [1000 15 34 '1' '1']\n",
            " [1000 15 26 '1' '1']\n",
            " [800 15 35 '2' '1']\n",
            " [1000 30 32 '1' '1']\n",
            " [1000 30 27 '1' '1']\n",
            " [1000 30 28 '1' '1']\n",
            " [1000 30 34 '0' '1']\n",
            " [800 15 44 '1' '1']\n",
            " [800 15 34 '1' '1']\n",
            " [800 15 44 '0' '0']\n",
            " [800 15 28 '1' '1']\n",
            " [1000 30 29 '0' '1']\n",
            " [1000 30 32 '0' '1']\n",
            " [1000 30 24 '1' '1']\n",
            " [1000 30 37 '0' '1']\n",
            " [1000 30 27 '1' '1']\n",
            " [1000 30 35 '1' '0']\n",
            " [1000 30 36 '1' '1']\n",
            " [800 15 35 '2' '1']\n",
            " [800 15 33 '1' '1']\n",
            " [1000 30 26 '1' '1']\n",
            " [1000 30 30 '0' '1']\n",
            " [1000 30 26 '1' '1']\n",
            " [800 15 21 '1' '1']\n",
            " [1000 30 29 '1' '1']\n",
            " [1000 30 23 '0' '1']\n",
            " [1000 30 22 '0' '1']\n",
            " [1000 15 32 '0' '1']]\n"
          ],
          "name": "stdout"
        }
      ]
    },
    {
      "cell_type": "code",
      "metadata": {
        "id": "mZzj0GobaFvC",
        "colab": {
          "base_uri": "https://localhost:8080/"
        },
        "outputId": "44c35837-5ce3-40f1-d12f-6d52e73c939a"
      },
      "source": [
        "df_train2 = pd.DataFrame(y_train)\n",
        "df_train2.to_csv('Loan payments data_y_train.csv', index=False)\n",
        "print(y_train)"
      ],
      "execution_count": null,
      "outputs": [
        {
          "output_type": "stream",
          "text": [
            "['2' '1' '0' '2' '1' '0' '0' '1' '0' '0' '0' '0' '0' '0' '2' '0' '0' '0'\n",
            " '2' '0' '0' '0' '0' '0' '1' '1' '1' '0' '0' '2' '0' '1' '0' '0' '0' '1'\n",
            " '1' '1' '0' '2' '0' '0' '0' '1' '1' '0' '2' '0' '0' '0' '0' '0' '1' '0'\n",
            " '0' '0' '0' '0' '0' '1' '1' '1' '0' '0' '1' '2' '0' '0' '0' '2' '0' '0'\n",
            " '1' '0' '0' '2' '2' '0' '2' '1' '1' '0' '0' '0' '1' '0' '2' '0' '2' '0'\n",
            " '0' '0' '2' '0' '2' '2' '1' '0' '0' '2' '0' '0' '0' '0' '0' '2' '1' '0'\n",
            " '1' '0' '0' '1' '0' '0' '0' '0' '0' '1' '0' '0' '0' '0' '1' '0' '2' '1'\n",
            " '1' '1' '0' '1' '0' '2' '0' '0' '2' '1' '1' '1' '0' '1' '2' '1' '2' '0'\n",
            " '0' '2' '1' '1' '2' '1' '0' '1' '0' '0' '0' '0' '0' '0' '0' '2' '0' '2'\n",
            " '1' '0' '0' '2' '0' '1' '1' '0' '1' '0' '2' '0' '0' '0' '0' '0' '1' '0'\n",
            " '0' '0' '0' '0' '0' '1' '1' '0' '0' '0' '0' '1' '1' '0' '0' '2' '1' '0'\n",
            " '0' '0' '2' '0' '0' '2' '0' '0' '2' '0' '0' '0' '0' '0' '0' '0' '0' '0'\n",
            " '1' '0' '2' '0' '1' '0' '0' '0' '0' '2' '0' '0' '0' '0' '2' '0' '1' '2'\n",
            " '0' '1' '0' '0' '0' '1' '2' '2' '0' '0' '2' '2' '1' '0' '0' '0' '0' '2'\n",
            " '0' '2' '2' '1' '1' '0' '0' '0' '0' '0' '2' '0' '1' '0' '0' '0' '1' '0'\n",
            " '2' '2' '0' '2' '0' '0' '0' '0' '2' '1' '0' '1' '2' '0' '1' '0' '0' '0'\n",
            " '1' '0' '1' '0' '0' '1' '2' '0' '1' '2' '1' '0' '0' '1' '0' '2' '0' '2'\n",
            " '0' '2' '0' '0' '0' '0' '1' '0' '0' '0' '1' '2' '0' '0' '2' '0' '1' '0'\n",
            " '2' '1' '0' '1' '0' '0' '0' '1' '0' '1' '0' '2' '1' '0' '2' '0' '2' '0'\n",
            " '0' '0' '0' '0' '1' '2' '0']\n"
          ],
          "name": "stdout"
        }
      ]
    },
    {
      "cell_type": "code",
      "metadata": {
        "id": "7areK84iaFxf",
        "colab": {
          "base_uri": "https://localhost:8080/"
        },
        "outputId": "c97ec431-4653-4053-e7ba-69249a232571"
      },
      "source": [
        "df_test2 = pd.DataFrame(y_test)\n",
        "df_test2.to_csv('Loan payments data_y_test.csv', index=False)\n",
        "print(y_test)"
      ],
      "execution_count": null,
      "outputs": [
        {
          "output_type": "stream",
          "text": [
            "['2' '0' '0' '0' '0' '2' '0' '0' '1' '0' '0' '0' '1' '0' '0' '2' '2' '0'\n",
            " '0' '2' '0' '0' '2' '0' '0' '0' '1' '2' '0' '0' '2' '0' '0' '0' '1' '0'\n",
            " '0' '0' '2' '0' '0' '2' '0' '1' '0' '0' '1' '0' '0' '1' '0' '2' '1' '0'\n",
            " '0' '1' '2' '2' '2' '0' '2' '0' '2' '0' '0' '0' '1' '0' '2' '0' '2' '0'\n",
            " '0' '0' '2' '0' '0' '0' '0' '2' '1' '2' '0' '2' '1' '0' '1' '2' '0' '0'\n",
            " '1' '0' '0' '2' '0' '0' '1' '0' '1' '1' '0' '0' '0' '2' '0' '2' '2' '1'\n",
            " '0' '0' '0' '2' '0' '0' '2' '0' '0' '2' '0' '1' '2' '2' '1' '0' '1' '0'\n",
            " '0' '0' '1' '0' '2' '0' '0' '0' '0' '0' '0' '2' '2' '0' '0' '2' '0' '0'\n",
            " '2' '0' '0' '0' '0' '0']\n"
          ],
          "name": "stdout"
        }
      ]
    }
  ]
}