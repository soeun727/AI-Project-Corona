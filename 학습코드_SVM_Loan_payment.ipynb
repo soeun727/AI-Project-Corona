{
  "nbformat": 4,
  "nbformat_minor": 0,
  "metadata": {
    "colab": {
      "name": "학습코드_SVM_Loan_payment.ipynb",
      "provenance": [],
      "toc_visible": true,
      "mount_file_id": "1aZ9xeKXyOcrSndE_3iIHNqrzly9WAfKs",
      "authorship_tag": "ABX9TyMibEUpBh7xxCMXKZNz10LT",
      "include_colab_link": true
    },
    "kernelspec": {
      "name": "python3",
      "display_name": "Python 3"
    },
    "language_info": {
      "name": "python"
    }
  },
  "cells": [
    {
      "cell_type": "markdown",
      "metadata": {
        "id": "view-in-github",
        "colab_type": "text"
      },
      "source": [
        "<a href=\"https://colab.research.google.com/github/soeun727/AI-Project-loan_payment/blob/main/%ED%95%99%EC%8A%B5%EC%BD%94%EB%93%9C_SVM_Loan_payment.ipynb\" target=\"_parent\"><img src=\"https://colab.research.google.com/assets/colab-badge.svg\" alt=\"Open In Colab\"/></a>"
      ]
    },
    {
      "cell_type": "markdown",
      "metadata": {
        "id": "TQoih4Lnr3vf"
      },
      "source": [
        "## **데이터 학습 - SVM**\n",
        "- StandardScaler()를 사용하여 스케일링\n",
        "- SVM 모델 학습\n",
        "- 오차행렬 결과 출력"
      ]
    },
    {
      "cell_type": "markdown",
      "metadata": {
        "id": "clYj0YNQr8Of"
      },
      "source": [
        "**▼ SVM(Support Vector Machine)의 개념**\n",
        "- 분류 문제에 사용하는 기계학습 알고리즘\n",
        "- 결정 경계(Decision Boundary), 즉 분류를 위한 기준 선을 정의하는 모델"
      ]
    },
    {
      "cell_type": "code",
      "metadata": {
        "colab": {
          "base_uri": "https://localhost:8080/",
          "height": 205
        },
        "id": "DKB8PkMz2hwp",
        "outputId": "904ffdd1-ee55-4b4f-ea90-d3b3f6caab50"
      },
      "source": [
        "# 원본 데이터 불러오기\n",
        "import numpy as np\n",
        "import pandas as pd\n",
        "df = pd.read_csv(\"/content/drive/MyDrive/AI test/loan_payment analysis/Loan payments data_PreProcessed.csv\")\n",
        "df = df.drop(['Unnamed: 0'],axis=1)\n",
        "df.head()"
      ],
      "execution_count": 1,
      "outputs": [
        {
          "output_type": "execute_result",
          "data": {
            "text/html": [
              "<div>\n",
              "<style scoped>\n",
              "    .dataframe tbody tr th:only-of-type {\n",
              "        vertical-align: middle;\n",
              "    }\n",
              "\n",
              "    .dataframe tbody tr th {\n",
              "        vertical-align: top;\n",
              "    }\n",
              "\n",
              "    .dataframe thead th {\n",
              "        text-align: right;\n",
              "    }\n",
              "</style>\n",
              "<table border=\"1\" class=\"dataframe\">\n",
              "  <thead>\n",
              "    <tr style=\"text-align: right;\">\n",
              "      <th></th>\n",
              "      <th>loan_status</th>\n",
              "      <th>Principal</th>\n",
              "      <th>terms</th>\n",
              "      <th>age</th>\n",
              "      <th>education</th>\n",
              "      <th>Gender</th>\n",
              "    </tr>\n",
              "  </thead>\n",
              "  <tbody>\n",
              "    <tr>\n",
              "      <th>0</th>\n",
              "      <td>0</td>\n",
              "      <td>1000</td>\n",
              "      <td>30</td>\n",
              "      <td>45</td>\n",
              "      <td>0</td>\n",
              "      <td>1</td>\n",
              "    </tr>\n",
              "    <tr>\n",
              "      <th>1</th>\n",
              "      <td>0</td>\n",
              "      <td>1000</td>\n",
              "      <td>30</td>\n",
              "      <td>50</td>\n",
              "      <td>2</td>\n",
              "      <td>0</td>\n",
              "    </tr>\n",
              "    <tr>\n",
              "      <th>2</th>\n",
              "      <td>0</td>\n",
              "      <td>1000</td>\n",
              "      <td>30</td>\n",
              "      <td>33</td>\n",
              "      <td>2</td>\n",
              "      <td>0</td>\n",
              "    </tr>\n",
              "    <tr>\n",
              "      <th>3</th>\n",
              "      <td>0</td>\n",
              "      <td>1000</td>\n",
              "      <td>15</td>\n",
              "      <td>27</td>\n",
              "      <td>1</td>\n",
              "      <td>1</td>\n",
              "    </tr>\n",
              "    <tr>\n",
              "      <th>4</th>\n",
              "      <td>0</td>\n",
              "      <td>1000</td>\n",
              "      <td>30</td>\n",
              "      <td>28</td>\n",
              "      <td>1</td>\n",
              "      <td>0</td>\n",
              "    </tr>\n",
              "  </tbody>\n",
              "</table>\n",
              "</div>"
            ],
            "text/plain": [
              "   loan_status  Principal  terms  age  education  Gender\n",
              "0            0       1000     30   45          0       1\n",
              "1            0       1000     30   50          2       0\n",
              "2            0       1000     30   33          2       0\n",
              "3            0       1000     15   27          1       1\n",
              "4            0       1000     30   28          1       0"
            ]
          },
          "metadata": {
            "tags": []
          },
          "execution_count": 1
        }
      ]
    },
    {
      "cell_type": "code",
      "metadata": {
        "id": "pqiZMyK_S-kl"
      },
      "source": [
        "# y, 즉 예측값이 loan_status일 때\n",
        "from sklearn.model_selection import train_test_split\n",
        "\n",
        "X = df.iloc[1:501,1:].values\n",
        "y = df.iloc[1:501,0].values\n",
        "X_train, X_test, y_train, y_test = train_test_split(X, y, test_size=0.3,random_state=42)"
      ],
      "execution_count": 2,
      "outputs": []
    },
    {
      "cell_type": "code",
      "metadata": {
        "id": "ngx-HiMwCYi5"
      },
      "source": [
        "# Scaling을 수행하지 않고 학습\n",
        "from sklearn import svm\n",
        "from sklearn import metrics\n",
        "from sklearn.metrics import classification_report,confusion_matrix\n",
        "from sklearn.metrics import accuracy_score, f1_score\n",
        "\n",
        "SVM_rbf_model_before_scale = svm.SVC(kernel='rbf')\n",
        "SVM_rbf_model_before_scale.fit(X_train,y_train)\n",
        "\n",
        "svc_rbf_prediction_before_scale = SVM_rbf_model_before_scale.predict(X_test)"
      ],
      "execution_count": 3,
      "outputs": []
    },
    {
      "cell_type": "code",
      "metadata": {
        "id": "GslsU7yVd3BX"
      },
      "source": [
        "# Scaling을 수행한 후 학습\n",
        "from sklearn.preprocessing import StandardScaler\n",
        "\n",
        "std_scaler = StandardScaler()     # 변형 객체 생성\n",
        "std_scaler.fit(X_train)           # 훈련데이터의 모수 분포 저장\n",
        "X_train_scaled = std_scaler.transform(X_train)    # 훈련 데이터 스케일링\n",
        "X_test_scaled = std_scaler.transform(X_test)      # 테스트 데이터의 스케일링\n",
        "\n",
        "# 학습\n",
        "SVM_rbf_model_after_scale = svm.SVC(kernel='rbf')\n",
        "SVM_rbf_model_after_scale.fit(X_train_scaled,y_train)\n",
        "svc_rbf_prediction_after_scaled = SVM_rbf_model_after_scale.predict(X_test_scaled)"
      ],
      "execution_count": 4,
      "outputs": []
    },
    {
      "cell_type": "code",
      "metadata": {
        "colab": {
          "base_uri": "https://localhost:8080/"
        },
        "id": "W2ap4G_9tGkp",
        "outputId": "49fae5a6-2c95-45f2-cbdd-ddaac98fe8fb"
      },
      "source": [
        "# Scaling 수행 전 결과\n",
        "print('SVM accuracy = ', metrics.accuracy_score(svc_rbf_prediction_before_scale,y_test))\n",
        "before_scaling_report = classification_report(y_test,svc_rbf_prediction_before_scale)\n",
        "print(before_scaling_report)\n",
        "\n",
        "# Scaling 수행 후 결과\n",
        "print('SVM accuracy = ', metrics.accuracy_score(svc_rbf_prediction_after_scaled ,y_test))\n",
        "after_scaling_report = classification_report(y_test,svc_rbf_prediction_after_scaled)\n",
        "print(after_scaling_report)\n"
      ],
      "execution_count": 5,
      "outputs": [
        {
          "output_type": "stream",
          "text": [
            "SVM accuracy =  0.6066666666666667\n",
            "              precision    recall  f1-score   support\n",
            "\n",
            "           0       0.61      1.00      0.76        91\n",
            "           1       0.00      0.00      0.00        22\n",
            "           2       0.00      0.00      0.00        37\n",
            "\n",
            "    accuracy                           0.61       150\n",
            "   macro avg       0.20      0.33      0.25       150\n",
            "weighted avg       0.37      0.61      0.46       150\n",
            "\n",
            "SVM accuracy =  0.6066666666666667\n",
            "              precision    recall  f1-score   support\n",
            "\n",
            "           0       0.61      1.00      0.76        91\n",
            "           1       0.00      0.00      0.00        22\n",
            "           2       0.00      0.00      0.00        37\n",
            "\n",
            "    accuracy                           0.61       150\n",
            "   macro avg       0.20      0.33      0.25       150\n",
            "weighted avg       0.37      0.61      0.46       150\n",
            "\n"
          ],
          "name": "stdout"
        },
        {
          "output_type": "stream",
          "text": [
            "/usr/local/lib/python3.7/dist-packages/sklearn/metrics/_classification.py:1272: UndefinedMetricWarning: Precision and F-score are ill-defined and being set to 0.0 in labels with no predicted samples. Use `zero_division` parameter to control this behavior.\n",
            "  _warn_prf(average, modifier, msg_start, len(result))\n"
          ],
          "name": "stderr"
        }
      ]
    },
    {
      "cell_type": "code",
      "metadata": {
        "colab": {
          "base_uri": "https://localhost:8080/"
        },
        "id": "sLQdasvlMTPr",
        "outputId": "e29b642c-1b28-4dc9-b818-9d9d01aa7fc1"
      },
      "source": [
        "# Scaling 수행 전 데이터셋 정확도\n",
        "print(\"<Scaling 전>\")\n",
        "print(\"훈련 세트 정확도: {:.3f}\".format(SVM_rbf_model_before_scale.score(X_train, y_train)))\n",
        "print(\"테스트 세트 정확도: {:.3f}\".format(SVM_rbf_model_before_scale.score(X_test, y_test)))\n",
        "print()\n",
        "# Scaling 수행 전 데이터셋 정확도\n",
        "print(\"<Scaling 후>\")\n",
        "print(\"훈련 세트 정확도: {:.3f}\".format(SVM_rbf_model_after_scale.score(X_train, y_train)))\n",
        "print(\"테스트 세트 정확도: {:.3f}\".format(SVM_rbf_model_after_scale.score(X_test, y_test)))"
      ],
      "execution_count": 6,
      "outputs": [
        {
          "output_type": "stream",
          "text": [
            "<Scaling 전>\n",
            "훈련 세트 정확도: 0.596\n",
            "테스트 세트 정확도: 0.607\n",
            "\n",
            "<Scaling 후>\n",
            "훈련 세트 정확도: 0.596\n",
            "테스트 세트 정확도: 0.607\n"
          ],
          "name": "stdout"
        }
      ]
    },
    {
      "cell_type": "code",
      "metadata": {
        "colab": {
          "base_uri": "https://localhost:8080/",
          "height": 279
        },
        "id": "z6iXD4BFP5qw",
        "outputId": "0ddd72cd-c927-4bc3-e803-912a58cb88fb"
      },
      "source": [
        "# 오차행렬 시각화 - Scaling 전\n",
        "import matplotlib.pyplot as plt\n",
        "import seaborn as sns\n",
        "sns.heatmap(confusion_matrix(y_test, svc_rbf_prediction_before_scale), annot=True, cmap='Reds')\n",
        "plt.xlabel('Predict')\n",
        "plt.ylabel('Actual')\n",
        "plt.show()"
      ],
      "execution_count": 7,
      "outputs": [
        {
          "output_type": "display_data",
          "data": {
            "image/png": "[encoded data removed]",
            "text/plain": [
              "<Figure size 432x288 with 2 Axes>"
            ]
          },
          "metadata": {
            "tags": [],
            "needs_background": "light"
          }
        }
      ]
    },
    {
      "cell_type": "code",
      "metadata": {
        "colab": {
          "base_uri": "https://localhost:8080/",
          "height": 279
        },
        "id": "5AsOUVbUQcSk",
        "outputId": "6d846bc8-3e41-473b-e600-eb375788b4f6"
      },
      "source": [
        "# 오차행렬 시각화 - Scaling 후\n",
        "import matplotlib.pyplot as plt\n",
        "import seaborn as sns\n",
        "sns.heatmap(confusion_matrix(y_test, svc_rbf_prediction_after_scaled), annot=True, cmap='Reds')\n",
        "plt.xlabel('Predict')\n",
        "plt.ylabel('Actual')\n",
        "plt.show()\n"
      ],
      "execution_count": 8,
      "outputs": [
        {
          "output_type": "display_data",
          "data": {
            "image/png": "[encoded data removed]",
            "text/plain": [
              "<Figure size 432x288 with 2 Axes>"
            ]
          },
          "metadata": {
            "tags": [],
            "needs_background": "light"
          }
        }
      ]
    },
    {
      "cell_type": "markdown",
      "metadata": {
        "id": "MFwm4LewuBDV"
      },
      "source": [
        "→ 결과 : **60%**의 정확도, Scaling 수행 여부가 정확도에 영향을 미치지 않음"
      ]
    },
    {
      "cell_type": "markdown",
      "metadata": {
        "id": "QYQ2z6n8xA3T"
      },
      "source": [
        "# **past_due_days** 열을 추가하여 학습\n",
        "\n",
        "---\n",
        "\n",
        "\n",
        "\n"
      ]
    },
    {
      "cell_type": "code",
      "metadata": {
        "colab": {
          "base_uri": "https://localhost:8080/",
          "height": 260
        },
        "id": "Bpe6qnMbxRds",
        "outputId": "2756c537-06e3-4985-cb77-4072d0eca222"
      },
      "source": [
        "# 원본 데이터 불러오기\n",
        "import numpy as np\n",
        "import pandas as pd\n",
        "df = pd.read_csv(\"/content/drive/MyDrive/AI test/loan_payment analysis/Loan payments data_원본.csv\")\n",
        "#df = df.drop(['Unnamed: 0'],axis=1)\n",
        "df.head()"
      ],
      "execution_count": 9,
      "outputs": [
        {
          "output_type": "execute_result",
          "data": {
            "text/html": [
              "<div>\n",
              "<style scoped>\n",
              "    .dataframe tbody tr th:only-of-type {\n",
              "        vertical-align: middle;\n",
              "    }\n",
              "\n",
              "    .dataframe tbody tr th {\n",
              "        vertical-align: top;\n",
              "    }\n",
              "\n",
              "    .dataframe thead th {\n",
              "        text-align: right;\n",
              "    }\n",
              "</style>\n",
              "<table border=\"1\" class=\"dataframe\">\n",
              "  <thead>\n",
              "    <tr style=\"text-align: right;\">\n",
              "      <th></th>\n",
              "      <th>Loan_ID</th>\n",
              "      <th>loan_status</th>\n",
              "      <th>Principal</th>\n",
              "      <th>terms</th>\n",
              "      <th>effective_date</th>\n",
              "      <th>due_date</th>\n",
              "      <th>paid_off_time</th>\n",
              "      <th>past_due_days</th>\n",
              "      <th>age</th>\n",
              "      <th>education</th>\n",
              "      <th>Gender</th>\n",
              "    </tr>\n",
              "  </thead>\n",
              "  <tbody>\n",
              "    <tr>\n",
              "      <th>0</th>\n",
              "      <td>xqd20166231</td>\n",
              "      <td>PAIDOFF</td>\n",
              "      <td>1000</td>\n",
              "      <td>30</td>\n",
              "      <td>9/8/2016</td>\n",
              "      <td>10/7/2016</td>\n",
              "      <td>9/14/2016 19:31</td>\n",
              "      <td>NaN</td>\n",
              "      <td>45</td>\n",
              "      <td>High School or Below</td>\n",
              "      <td>male</td>\n",
              "    </tr>\n",
              "    <tr>\n",
              "      <th>1</th>\n",
              "      <td>xqd20168902</td>\n",
              "      <td>PAIDOFF</td>\n",
              "      <td>1000</td>\n",
              "      <td>30</td>\n",
              "      <td>9/8/2016</td>\n",
              "      <td>10/7/2016</td>\n",
              "      <td>10/7/2016 9:00</td>\n",
              "      <td>NaN</td>\n",
              "      <td>50</td>\n",
              "      <td>Bechalor</td>\n",
              "      <td>female</td>\n",
              "    </tr>\n",
              "    <tr>\n",
              "      <th>2</th>\n",
              "      <td>xqd20160003</td>\n",
              "      <td>PAIDOFF</td>\n",
              "      <td>1000</td>\n",
              "      <td>30</td>\n",
              "      <td>9/8/2016</td>\n",
              "      <td>10/7/2016</td>\n",
              "      <td>9/25/2016 16:58</td>\n",
              "      <td>NaN</td>\n",
              "      <td>33</td>\n",
              "      <td>Bechalor</td>\n",
              "      <td>female</td>\n",
              "    </tr>\n",
              "    <tr>\n",
              "      <th>3</th>\n",
              "      <td>xqd20160004</td>\n",
              "      <td>PAIDOFF</td>\n",
              "      <td>1000</td>\n",
              "      <td>15</td>\n",
              "      <td>9/8/2016</td>\n",
              "      <td>9/22/2016</td>\n",
              "      <td>9/22/2016 20:00</td>\n",
              "      <td>NaN</td>\n",
              "      <td>27</td>\n",
              "      <td>college</td>\n",
              "      <td>male</td>\n",
              "    </tr>\n",
              "    <tr>\n",
              "      <th>4</th>\n",
              "      <td>xqd20160005</td>\n",
              "      <td>PAIDOFF</td>\n",
              "      <td>1000</td>\n",
              "      <td>30</td>\n",
              "      <td>9/9/2016</td>\n",
              "      <td>10/8/2016</td>\n",
              "      <td>9/23/2016 21:36</td>\n",
              "      <td>NaN</td>\n",
              "      <td>28</td>\n",
              "      <td>college</td>\n",
              "      <td>female</td>\n",
              "    </tr>\n",
              "  </tbody>\n",
              "</table>\n",
              "</div>"
            ],
            "text/plain": [
              "       Loan_ID loan_status  Principal  ...  age             education  Gender\n",
              "0  xqd20166231     PAIDOFF       1000  ...   45  High School or Below    male\n",
              "1  xqd20168902     PAIDOFF       1000  ...   50              Bechalor  female\n",
              "2  xqd20160003     PAIDOFF       1000  ...   33              Bechalor  female\n",
              "3  xqd20160004     PAIDOFF       1000  ...   27               college    male\n",
              "4  xqd20160005     PAIDOFF       1000  ...   28               college  female\n",
              "\n",
              "[5 rows x 11 columns]"
            ]
          },
          "metadata": {
            "tags": []
          },
          "execution_count": 9
        }
      ]
    },
    {
      "cell_type": "code",
      "metadata": {
        "colab": {
          "base_uri": "https://localhost:8080/",
          "height": 205
        },
        "id": "Pgft_Owkxc5A",
        "outputId": "bce69eab-2602-4af9-b42a-81cdc8020758"
      },
      "source": [
        "# 사용하지 않을 열 삭제(past_due_days 제외)\n",
        "df.drop(['Loan_ID', 'effective_date', 'due_date' , 'paid_off_time'] ,axis = 1, inplace = True)\n",
        "df.head()"
      ],
      "execution_count": 10,
      "outputs": [
        {
          "output_type": "execute_result",
          "data": {
            "text/html": [
              "<div>\n",
              "<style scoped>\n",
              "    .dataframe tbody tr th:only-of-type {\n",
              "        vertical-align: middle;\n",
              "    }\n",
              "\n",
              "    .dataframe tbody tr th {\n",
              "        vertical-align: top;\n",
              "    }\n",
              "\n",
              "    .dataframe thead th {\n",
              "        text-align: right;\n",
              "    }\n",
              "</style>\n",
              "<table border=\"1\" class=\"dataframe\">\n",
              "  <thead>\n",
              "    <tr style=\"text-align: right;\">\n",
              "      <th></th>\n",
              "      <th>loan_status</th>\n",
              "      <th>Principal</th>\n",
              "      <th>terms</th>\n",
              "      <th>past_due_days</th>\n",
              "      <th>age</th>\n",
              "      <th>education</th>\n",
              "      <th>Gender</th>\n",
              "    </tr>\n",
              "  </thead>\n",
              "  <tbody>\n",
              "    <tr>\n",
              "      <th>0</th>\n",
              "      <td>PAIDOFF</td>\n",
              "      <td>1000</td>\n",
              "      <td>30</td>\n",
              "      <td>NaN</td>\n",
              "      <td>45</td>\n",
              "      <td>High School or Below</td>\n",
              "      <td>male</td>\n",
              "    </tr>\n",
              "    <tr>\n",
              "      <th>1</th>\n",
              "      <td>PAIDOFF</td>\n",
              "      <td>1000</td>\n",
              "      <td>30</td>\n",
              "      <td>NaN</td>\n",
              "      <td>50</td>\n",
              "      <td>Bechalor</td>\n",
              "      <td>female</td>\n",
              "    </tr>\n",
              "    <tr>\n",
              "      <th>2</th>\n",
              "      <td>PAIDOFF</td>\n",
              "      <td>1000</td>\n",
              "      <td>30</td>\n",
              "      <td>NaN</td>\n",
              "      <td>33</td>\n",
              "      <td>Bechalor</td>\n",
              "      <td>female</td>\n",
              "    </tr>\n",
              "    <tr>\n",
              "      <th>3</th>\n",
              "      <td>PAIDOFF</td>\n",
              "      <td>1000</td>\n",
              "      <td>15</td>\n",
              "      <td>NaN</td>\n",
              "      <td>27</td>\n",
              "      <td>college</td>\n",
              "      <td>male</td>\n",
              "    </tr>\n",
              "    <tr>\n",
              "      <th>4</th>\n",
              "      <td>PAIDOFF</td>\n",
              "      <td>1000</td>\n",
              "      <td>30</td>\n",
              "      <td>NaN</td>\n",
              "      <td>28</td>\n",
              "      <td>college</td>\n",
              "      <td>female</td>\n",
              "    </tr>\n",
              "  </tbody>\n",
              "</table>\n",
              "</div>"
            ],
            "text/plain": [
              "  loan_status  Principal  terms  ...  age             education  Gender\n",
              "0     PAIDOFF       1000     30  ...   45  High School or Below    male\n",
              "1     PAIDOFF       1000     30  ...   50              Bechalor  female\n",
              "2     PAIDOFF       1000     30  ...   33              Bechalor  female\n",
              "3     PAIDOFF       1000     15  ...   27               college    male\n",
              "4     PAIDOFF       1000     30  ...   28               college  female\n",
              "\n",
              "[5 rows x 7 columns]"
            ]
          },
          "metadata": {
            "tags": []
          },
          "execution_count": 10
        }
      ]
    },
    {
      "cell_type": "code",
      "metadata": {
        "colab": {
          "base_uri": "https://localhost:8080/",
          "height": 422
        },
        "id": "7myecOTdxy9Q",
        "outputId": "4f10385b-59c2-4ace-abd6-2ce79fe72816"
      },
      "source": [
        "#문자열 변환\n",
        "df[\"loan_status\"]= df[\"loan_status\"].replace(['PAIDOFF', 'COLLECTION', 'COLLECTION_PAIDOFF'],[\"0\",\"1\",\"2\"])\n",
        "df[\"education\"]= df[\"education\"].replace(['High School or Below', 'college', 'Bechalor', 'Master or Above'],[\"0\",\"1\",\"2\",\"3\"])\n",
        "df[\"Gender\"]= df[\"Gender\"].replace(['female', 'male'],[\"0\",\"1\"])\n",
        "df"
      ],
      "execution_count": 11,
      "outputs": [
        {
          "output_type": "execute_result",
          "data": {
            "text/html": [
              "<div>\n",
              "<style scoped>\n",
              "    .dataframe tbody tr th:only-of-type {\n",
              "        vertical-align: middle;\n",
              "    }\n",
              "\n",
              "    .dataframe tbody tr th {\n",
              "        vertical-align: top;\n",
              "    }\n",
              "\n",
              "    .dataframe thead th {\n",
              "        text-align: right;\n",
              "    }\n",
              "</style>\n",
              "<table border=\"1\" class=\"dataframe\">\n",
              "  <thead>\n",
              "    <tr style=\"text-align: right;\">\n",
              "      <th></th>\n",
              "      <th>loan_status</th>\n",
              "      <th>Principal</th>\n",
              "      <th>terms</th>\n",
              "      <th>past_due_days</th>\n",
              "      <th>age</th>\n",
              "      <th>education</th>\n",
              "      <th>Gender</th>\n",
              "    </tr>\n",
              "  </thead>\n",
              "  <tbody>\n",
              "    <tr>\n",
              "      <th>0</th>\n",
              "      <td>0</td>\n",
              "      <td>1000</td>\n",
              "      <td>30</td>\n",
              "      <td>NaN</td>\n",
              "      <td>45</td>\n",
              "      <td>0</td>\n",
              "      <td>1</td>\n",
              "    </tr>\n",
              "    <tr>\n",
              "      <th>1</th>\n",
              "      <td>0</td>\n",
              "      <td>1000</td>\n",
              "      <td>30</td>\n",
              "      <td>NaN</td>\n",
              "      <td>50</td>\n",
              "      <td>2</td>\n",
              "      <td>0</td>\n",
              "    </tr>\n",
              "    <tr>\n",
              "      <th>2</th>\n",
              "      <td>0</td>\n",
              "      <td>1000</td>\n",
              "      <td>30</td>\n",
              "      <td>NaN</td>\n",
              "      <td>33</td>\n",
              "      <td>2</td>\n",
              "      <td>0</td>\n",
              "    </tr>\n",
              "    <tr>\n",
              "      <th>3</th>\n",
              "      <td>0</td>\n",
              "      <td>1000</td>\n",
              "      <td>15</td>\n",
              "      <td>NaN</td>\n",
              "      <td>27</td>\n",
              "      <td>1</td>\n",
              "      <td>1</td>\n",
              "    </tr>\n",
              "    <tr>\n",
              "      <th>4</th>\n",
              "      <td>0</td>\n",
              "      <td>1000</td>\n",
              "      <td>30</td>\n",
              "      <td>NaN</td>\n",
              "      <td>28</td>\n",
              "      <td>1</td>\n",
              "      <td>0</td>\n",
              "    </tr>\n",
              "    <tr>\n",
              "      <th>...</th>\n",
              "      <td>...</td>\n",
              "      <td>...</td>\n",
              "      <td>...</td>\n",
              "      <td>...</td>\n",
              "      <td>...</td>\n",
              "      <td>...</td>\n",
              "      <td>...</td>\n",
              "    </tr>\n",
              "    <tr>\n",
              "      <th>495</th>\n",
              "      <td>2</td>\n",
              "      <td>1000</td>\n",
              "      <td>30</td>\n",
              "      <td>3.0</td>\n",
              "      <td>28</td>\n",
              "      <td>0</td>\n",
              "      <td>1</td>\n",
              "    </tr>\n",
              "    <tr>\n",
              "      <th>496</th>\n",
              "      <td>2</td>\n",
              "      <td>1000</td>\n",
              "      <td>15</td>\n",
              "      <td>14.0</td>\n",
              "      <td>26</td>\n",
              "      <td>0</td>\n",
              "      <td>1</td>\n",
              "    </tr>\n",
              "    <tr>\n",
              "      <th>497</th>\n",
              "      <td>2</td>\n",
              "      <td>800</td>\n",
              "      <td>15</td>\n",
              "      <td>3.0</td>\n",
              "      <td>30</td>\n",
              "      <td>1</td>\n",
              "      <td>1</td>\n",
              "    </tr>\n",
              "    <tr>\n",
              "      <th>498</th>\n",
              "      <td>2</td>\n",
              "      <td>1000</td>\n",
              "      <td>30</td>\n",
              "      <td>1.0</td>\n",
              "      <td>38</td>\n",
              "      <td>1</td>\n",
              "      <td>0</td>\n",
              "    </tr>\n",
              "    <tr>\n",
              "      <th>499</th>\n",
              "      <td>2</td>\n",
              "      <td>1000</td>\n",
              "      <td>30</td>\n",
              "      <td>8.0</td>\n",
              "      <td>28</td>\n",
              "      <td>0</td>\n",
              "      <td>1</td>\n",
              "    </tr>\n",
              "  </tbody>\n",
              "</table>\n",
              "<p>500 rows × 7 columns</p>\n",
              "</div>"
            ],
            "text/plain": [
              "    loan_status  Principal  terms  past_due_days  age education Gender\n",
              "0             0       1000     30            NaN   45         0      1\n",
              "1             0       1000     30            NaN   50         2      0\n",
              "2             0       1000     30            NaN   33         2      0\n",
              "3             0       1000     15            NaN   27         1      1\n",
              "4             0       1000     30            NaN   28         1      0\n",
              "..          ...        ...    ...            ...  ...       ...    ...\n",
              "495           2       1000     30            3.0   28         0      1\n",
              "496           2       1000     15           14.0   26         0      1\n",
              "497           2        800     15            3.0   30         1      1\n",
              "498           2       1000     30            1.0   38         1      0\n",
              "499           2       1000     30            8.0   28         0      1\n",
              "\n",
              "[500 rows x 7 columns]"
            ]
          },
          "metadata": {
            "tags": []
          },
          "execution_count": 11
        }
      ]
    },
    {
      "cell_type": "code",
      "metadata": {
        "id": "AxIKQQB3x-6o",
        "colab": {
          "base_uri": "https://localhost:8080/",
          "height": 422
        },
        "outputId": "61660ea9-6408-45e3-e52d-ab4d75494794"
      },
      "source": [
        "#past_due_days 처리\n",
        "df['past_due_days'].unique()\n",
        "df[\"past_due_days\"]= df[\"past_due_days\"].fillna(0)\n",
        "df[\"past_due_days\"]= df[\"past_due_days\"].replace([  76., 61., 75., 60., 59., 74., 29., 44., 58., 73., 28.,  2.,\n",
        "        4., 13.,  5.,  3., 12., 27.,  1., 25., 24., 36.,  7., 14., 23.,\n",
        "        6., 38., 19., 52., 51.,  9., 56.,  8.], \"1\")\n",
        "df"
      ],
      "execution_count": 12,
      "outputs": [
        {
          "output_type": "execute_result",
          "data": {
            "text/html": [
              "<div>\n",
              "<style scoped>\n",
              "    .dataframe tbody tr th:only-of-type {\n",
              "        vertical-align: middle;\n",
              "    }\n",
              "\n",
              "    .dataframe tbody tr th {\n",
              "        vertical-align: top;\n",
              "    }\n",
              "\n",
              "    .dataframe thead th {\n",
              "        text-align: right;\n",
              "    }\n",
              "</style>\n",
              "<table border=\"1\" class=\"dataframe\">\n",
              "  <thead>\n",
              "    <tr style=\"text-align: right;\">\n",
              "      <th></th>\n",
              "      <th>loan_status</th>\n",
              "      <th>Principal</th>\n",
              "      <th>terms</th>\n",
              "      <th>past_due_days</th>\n",
              "      <th>age</th>\n",
              "      <th>education</th>\n",
              "      <th>Gender</th>\n",
              "    </tr>\n",
              "  </thead>\n",
              "  <tbody>\n",
              "    <tr>\n",
              "      <th>0</th>\n",
              "      <td>0</td>\n",
              "      <td>1000</td>\n",
              "      <td>30</td>\n",
              "      <td>0</td>\n",
              "      <td>45</td>\n",
              "      <td>0</td>\n",
              "      <td>1</td>\n",
              "    </tr>\n",
              "    <tr>\n",
              "      <th>1</th>\n",
              "      <td>0</td>\n",
              "      <td>1000</td>\n",
              "      <td>30</td>\n",
              "      <td>0</td>\n",
              "      <td>50</td>\n",
              "      <td>2</td>\n",
              "      <td>0</td>\n",
              "    </tr>\n",
              "    <tr>\n",
              "      <th>2</th>\n",
              "      <td>0</td>\n",
              "      <td>1000</td>\n",
              "      <td>30</td>\n",
              "      <td>0</td>\n",
              "      <td>33</td>\n",
              "      <td>2</td>\n",
              "      <td>0</td>\n",
              "    </tr>\n",
              "    <tr>\n",
              "      <th>3</th>\n",
              "      <td>0</td>\n",
              "      <td>1000</td>\n",
              "      <td>15</td>\n",
              "      <td>0</td>\n",
              "      <td>27</td>\n",
              "      <td>1</td>\n",
              "      <td>1</td>\n",
              "    </tr>\n",
              "    <tr>\n",
              "      <th>4</th>\n",
              "      <td>0</td>\n",
              "      <td>1000</td>\n",
              "      <td>30</td>\n",
              "      <td>0</td>\n",
              "      <td>28</td>\n",
              "      <td>1</td>\n",
              "      <td>0</td>\n",
              "    </tr>\n",
              "    <tr>\n",
              "      <th>...</th>\n",
              "      <td>...</td>\n",
              "      <td>...</td>\n",
              "      <td>...</td>\n",
              "      <td>...</td>\n",
              "      <td>...</td>\n",
              "      <td>...</td>\n",
              "      <td>...</td>\n",
              "    </tr>\n",
              "    <tr>\n",
              "      <th>495</th>\n",
              "      <td>2</td>\n",
              "      <td>1000</td>\n",
              "      <td>30</td>\n",
              "      <td>1</td>\n",
              "      <td>28</td>\n",
              "      <td>0</td>\n",
              "      <td>1</td>\n",
              "    </tr>\n",
              "    <tr>\n",
              "      <th>496</th>\n",
              "      <td>2</td>\n",
              "      <td>1000</td>\n",
              "      <td>15</td>\n",
              "      <td>1</td>\n",
              "      <td>26</td>\n",
              "      <td>0</td>\n",
              "      <td>1</td>\n",
              "    </tr>\n",
              "    <tr>\n",
              "      <th>497</th>\n",
              "      <td>2</td>\n",
              "      <td>800</td>\n",
              "      <td>15</td>\n",
              "      <td>1</td>\n",
              "      <td>30</td>\n",
              "      <td>1</td>\n",
              "      <td>1</td>\n",
              "    </tr>\n",
              "    <tr>\n",
              "      <th>498</th>\n",
              "      <td>2</td>\n",
              "      <td>1000</td>\n",
              "      <td>30</td>\n",
              "      <td>1</td>\n",
              "      <td>38</td>\n",
              "      <td>1</td>\n",
              "      <td>0</td>\n",
              "    </tr>\n",
              "    <tr>\n",
              "      <th>499</th>\n",
              "      <td>2</td>\n",
              "      <td>1000</td>\n",
              "      <td>30</td>\n",
              "      <td>1</td>\n",
              "      <td>28</td>\n",
              "      <td>0</td>\n",
              "      <td>1</td>\n",
              "    </tr>\n",
              "  </tbody>\n",
              "</table>\n",
              "<p>500 rows × 7 columns</p>\n",
              "</div>"
            ],
            "text/plain": [
              "    loan_status  Principal  terms past_due_days  age education Gender\n",
              "0             0       1000     30             0   45         0      1\n",
              "1             0       1000     30             0   50         2      0\n",
              "2             0       1000     30             0   33         2      0\n",
              "3             0       1000     15             0   27         1      1\n",
              "4             0       1000     30             0   28         1      0\n",
              "..          ...        ...    ...           ...  ...       ...    ...\n",
              "495           2       1000     30             1   28         0      1\n",
              "496           2       1000     15             1   26         0      1\n",
              "497           2        800     15             1   30         1      1\n",
              "498           2       1000     30             1   38         1      0\n",
              "499           2       1000     30             1   28         0      1\n",
              "\n",
              "[500 rows x 7 columns]"
            ]
          },
          "metadata": {
            "tags": []
          },
          "execution_count": 12
        }
      ]
    },
    {
      "cell_type": "code",
      "metadata": {
        "colab": {
          "base_uri": "https://localhost:8080/",
          "height": 422
        },
        "id": "TOiBGrBfyMFl",
        "outputId": "c23aaef6-2b37-4012-9fa5-bffe4a32da53"
      },
      "source": [
        "df.dropna(inplace = True)\n",
        "df"
      ],
      "execution_count": 13,
      "outputs": [
        {
          "output_type": "execute_result",
          "data": {
            "text/html": [
              "<div>\n",
              "<style scoped>\n",
              "    .dataframe tbody tr th:only-of-type {\n",
              "        vertical-align: middle;\n",
              "    }\n",
              "\n",
              "    .dataframe tbody tr th {\n",
              "        vertical-align: top;\n",
              "    }\n",
              "\n",
              "    .dataframe thead th {\n",
              "        text-align: right;\n",
              "    }\n",
              "</style>\n",
              "<table border=\"1\" class=\"dataframe\">\n",
              "  <thead>\n",
              "    <tr style=\"text-align: right;\">\n",
              "      <th></th>\n",
              "      <th>loan_status</th>\n",
              "      <th>Principal</th>\n",
              "      <th>terms</th>\n",
              "      <th>past_due_days</th>\n",
              "      <th>age</th>\n",
              "      <th>education</th>\n",
              "      <th>Gender</th>\n",
              "    </tr>\n",
              "  </thead>\n",
              "  <tbody>\n",
              "    <tr>\n",
              "      <th>0</th>\n",
              "      <td>0</td>\n",
              "      <td>1000</td>\n",
              "      <td>30</td>\n",
              "      <td>0</td>\n",
              "      <td>45</td>\n",
              "      <td>0</td>\n",
              "      <td>1</td>\n",
              "    </tr>\n",
              "    <tr>\n",
              "      <th>1</th>\n",
              "      <td>0</td>\n",
              "      <td>1000</td>\n",
              "      <td>30</td>\n",
              "      <td>0</td>\n",
              "      <td>50</td>\n",
              "      <td>2</td>\n",
              "      <td>0</td>\n",
              "    </tr>\n",
              "    <tr>\n",
              "      <th>2</th>\n",
              "      <td>0</td>\n",
              "      <td>1000</td>\n",
              "      <td>30</td>\n",
              "      <td>0</td>\n",
              "      <td>33</td>\n",
              "      <td>2</td>\n",
              "      <td>0</td>\n",
              "    </tr>\n",
              "    <tr>\n",
              "      <th>3</th>\n",
              "      <td>0</td>\n",
              "      <td>1000</td>\n",
              "      <td>15</td>\n",
              "      <td>0</td>\n",
              "      <td>27</td>\n",
              "      <td>1</td>\n",
              "      <td>1</td>\n",
              "    </tr>\n",
              "    <tr>\n",
              "      <th>4</th>\n",
              "      <td>0</td>\n",
              "      <td>1000</td>\n",
              "      <td>30</td>\n",
              "      <td>0</td>\n",
              "      <td>28</td>\n",
              "      <td>1</td>\n",
              "      <td>0</td>\n",
              "    </tr>\n",
              "    <tr>\n",
              "      <th>...</th>\n",
              "      <td>...</td>\n",
              "      <td>...</td>\n",
              "      <td>...</td>\n",
              "      <td>...</td>\n",
              "      <td>...</td>\n",
              "      <td>...</td>\n",
              "      <td>...</td>\n",
              "    </tr>\n",
              "    <tr>\n",
              "      <th>495</th>\n",
              "      <td>2</td>\n",
              "      <td>1000</td>\n",
              "      <td>30</td>\n",
              "      <td>1</td>\n",
              "      <td>28</td>\n",
              "      <td>0</td>\n",
              "      <td>1</td>\n",
              "    </tr>\n",
              "    <tr>\n",
              "      <th>496</th>\n",
              "      <td>2</td>\n",
              "      <td>1000</td>\n",
              "      <td>15</td>\n",
              "      <td>1</td>\n",
              "      <td>26</td>\n",
              "      <td>0</td>\n",
              "      <td>1</td>\n",
              "    </tr>\n",
              "    <tr>\n",
              "      <th>497</th>\n",
              "      <td>2</td>\n",
              "      <td>800</td>\n",
              "      <td>15</td>\n",
              "      <td>1</td>\n",
              "      <td>30</td>\n",
              "      <td>1</td>\n",
              "      <td>1</td>\n",
              "    </tr>\n",
              "    <tr>\n",
              "      <th>498</th>\n",
              "      <td>2</td>\n",
              "      <td>1000</td>\n",
              "      <td>30</td>\n",
              "      <td>1</td>\n",
              "      <td>38</td>\n",
              "      <td>1</td>\n",
              "      <td>0</td>\n",
              "    </tr>\n",
              "    <tr>\n",
              "      <th>499</th>\n",
              "      <td>2</td>\n",
              "      <td>1000</td>\n",
              "      <td>30</td>\n",
              "      <td>1</td>\n",
              "      <td>28</td>\n",
              "      <td>0</td>\n",
              "      <td>1</td>\n",
              "    </tr>\n",
              "  </tbody>\n",
              "</table>\n",
              "<p>500 rows × 7 columns</p>\n",
              "</div>"
            ],
            "text/plain": [
              "    loan_status  Principal  terms past_due_days  age education Gender\n",
              "0             0       1000     30             0   45         0      1\n",
              "1             0       1000     30             0   50         2      0\n",
              "2             0       1000     30             0   33         2      0\n",
              "3             0       1000     15             0   27         1      1\n",
              "4             0       1000     30             0   28         1      0\n",
              "..          ...        ...    ...           ...  ...       ...    ...\n",
              "495           2       1000     30             1   28         0      1\n",
              "496           2       1000     15             1   26         0      1\n",
              "497           2        800     15             1   30         1      1\n",
              "498           2       1000     30             1   38         1      0\n",
              "499           2       1000     30             1   28         0      1\n",
              "\n",
              "[500 rows x 7 columns]"
            ]
          },
          "metadata": {
            "tags": []
          },
          "execution_count": 13
        }
      ]
    },
    {
      "cell_type": "code",
      "metadata": {
        "colab": {
          "base_uri": "https://localhost:8080/"
        },
        "id": "C-syXD4JyfuT",
        "outputId": "ed14cad0-3256-41be-9c8b-722be054617e"
      },
      "source": [
        "# y, 즉 예측값이 loan_status일 때\n",
        "from sklearn.model_selection import train_test_split\n",
        "\n",
        "X = df.iloc[1:501,1:].values\n",
        "y = df.iloc[1:501,0].values\n",
        "X_train, X_test, y_train, y_test = train_test_split(X, y, test_size=0.3,random_state=42)\n",
        "print(X_test)\n",
        "print(X_train)\n",
        "print(y_test)"
      ],
      "execution_count": 15,
      "outputs": [
        {
          "output_type": "stream",
          "text": [
            "[[1000 30 '1' 38 '0' '1']\n",
            " [1000 15 0.0 25 '1' '1']\n",
            " [1000 30 0.0 37 '1' '1']\n",
            " [1000 30 0.0 38 '0' '1']\n",
            " [1000 15 0.0 29 '1' '1']\n",
            " [1000 30 '1' 33 '1' '1']\n",
            " [1000 15 0.0 26 '2' '1']\n",
            " [1000 30 0.0 27 '0' '1']\n",
            " [800 15 '1' 32 '1' '1']\n",
            " [300 7 0.0 29 '1' '1']\n",
            " [1000 30 0.0 30 '1' '1']\n",
            " [800 30 0.0 23 '1' '0']\n",
            " [1000 30 '1' 41 '0' '1']\n",
            " [1000 30 0.0 27 '0' '0']\n",
            " [1000 30 0.0 30 '1' '1']\n",
            " [1000 30 '1' 28 '0' '1']\n",
            " [1000 15 '1' 37 '1' '1']\n",
            " [1000 30 0.0 37 '1' '1']\n",
            " [1000 15 0.0 47 '0' '1']\n",
            " [1000 30 '1' 38 '0' '1']\n",
            " [1000 15 0.0 24 '0' '1']\n",
            " [1000 15 0.0 30 '1' '0']\n",
            " [1000 30 '1' 30 '0' '1']\n",
            " [1000 15 0.0 34 '1' '1']\n",
            " [800 15 0.0 24 '0' '1']\n",
            " [1000 30 0.0 33 '0' '1']\n",
            " [1000 30 '1' 18 '1' '1']\n",
            " [1000 30 '1' 30 '1' '1']\n",
            " [1000 30 0.0 37 '1' '0']\n",
            " [1000 30 0.0 43 '2' '1']\n",
            " [1000 30 '1' 26 '1' '0']\n",
            " [1000 30 0.0 35 '1' '1']\n",
            " [800 15 0.0 35 '1' '1']\n",
            " [1000 15 0.0 27 '1' '1']\n",
            " [1000 30 '1' 30 '0' '0']\n",
            " [1000 30 0.0 28 '0' '1']\n",
            " [1000 15 0.0 27 '0' '1']\n",
            " [800 15 0.0 30 '0' '1']\n",
            " [1000 30 '1' 24 '1' '1']\n",
            " [1000 30 0.0 34 '2' '1']\n",
            " [1000 30 0.0 29 '1' '1']\n",
            " [1000 30 '1' 30 '1' '1']\n",
            " [800 15 0.0 33 '1' '1']\n",
            " [1000 15 '1' 29 '0' '1']\n",
            " [1000 30 0.0 50 '2' '0']\n",
            " [1000 30 0.0 26 '1' '1']\n",
            " [1000 30 '1' 38 '1' '0']\n",
            " [800 15 0.0 39 '0' '1']\n",
            " [1000 30 0.0 33 '1' '1']\n",
            " [1000 30 '1' 45 '0' '1']\n",
            " [800 15 0.0 31 '2' '0']\n",
            " [1000 30 '1' 38 '1' '1']\n",
            " [800 15 '1' 35 '0' '1']\n",
            " [1000 30 0.0 35 '2' '1']\n",
            " [800 30 0.0 26 '1' '1']\n",
            " [1000 30 '1' 26 '0' '1']\n",
            " [1000 15 '1' 32 '2' '1']\n",
            " [1000 30 '1' 28 '0' '1']\n",
            " [1000 30 '1' 29 '1' '1']\n",
            " [1000 30 0.0 29 '0' '1']\n",
            " [1000 30 '1' 33 '1' '1']\n",
            " [1000 15 0.0 32 '1' '0']\n",
            " [800 15 '1' 41 '1' '1']\n",
            " [1000 30 0.0 20 '1' '1']\n",
            " [800 30 0.0 31 '1' '1']\n",
            " [1000 30 0.0 34 '1' '1']\n",
            " [1000 30 '1' 35 '0' '1']\n",
            " [800 15 0.0 29 '0' '1']\n",
            " [1000 15 '1' 32 '0' '1']\n",
            " [1000 15 0.0 35 '2' '0']\n",
            " [1000 30 '1' 27 '1' '1']\n",
            " [1000 30 0.0 33 '1' '0']\n",
            " [1000 7 0.0 32 '2' '0']\n",
            " [800 15 0.0 29 '1' '1']\n",
            " [1000 15 '1' 29 '1' '1']\n",
            " [1000 30 0.0 28 '1' '1']\n",
            " [800 15 0.0 26 '1' '1']\n",
            " [1000 30 0.0 44 '0' '0']\n",
            " [800 15 0.0 33 '1' '1']\n",
            " [1000 30 '1' 42 '0' '0']\n",
            " [1000 30 '1' 28 '0' '1']\n",
            " [1000 30 '1' 38 '0' '1']\n",
            " [1000 30 0.0 26 '0' '1']\n",
            " [1000 15 '1' 22 '0' '1']\n",
            " [800 15 '1' 27 '1' '1']\n",
            " [1000 30 0.0 26 '1' '1']\n",
            " [1000 30 '1' 23 '0' '1']\n",
            " [1000 15 '1' 33 '1' '1']\n",
            " [800 15 0.0 43 '0' '1']\n",
            " [800 30 0.0 40 '1' '0']\n",
            " [800 15 '1' 40 '1' '1']\n",
            " [1000 30 0.0 27 '1' '0']\n",
            " [1000 30 0.0 31 '2' '1']\n",
            " [1000 30 '1' 25 '1' '0']\n",
            " [1000 30 0.0 40 '0' '1']\n",
            " [1000 30 0.0 35 '0' '1']\n",
            " [1000 30 '1' 26 '0' '1']\n",
            " [1000 30 0.0 26 '1' '1']\n",
            " [1000 30 '1' 37 '1' '1']\n",
            " [1000 30 '1' 21 '0' '1']\n",
            " [1000 30 0.0 26 '2' '1']\n",
            " [800 15 0.0 26 '0' '1']\n",
            " [1000 15 0.0 28 '2' '1']\n",
            " [1000 30 '1' 35 '2' '1']\n",
            " [1000 30 0.0 39 '1' '1']\n",
            " [1000 30 '1' 29 '1' '1']\n",
            " [1000 15 '1' 24 '1' '1']\n",
            " [1000 30 '1' 33 '1' '1']\n",
            " [800 15 0.0 39 '2' '1']\n",
            " [1000 15 0.0 27 '1' '1']\n",
            " [300 7 0.0 29 '0' '1']\n",
            " [1000 30 '1' 34 '0' '1']\n",
            " [1000 30 0.0 36 '0' '0']\n",
            " [1000 15 0.0 30 '1' '1']\n",
            " [800 15 '1' 33 '0' '1']\n",
            " [800 15 0.0 37 '0' '1']\n",
            " [800 15 0.0 36 '1' '1']\n",
            " [1000 30 '1' 27 '2' '1']\n",
            " [1000 15 0.0 25 '0' '1']\n",
            " [1000 30 '1' 20 '0' '1']\n",
            " [800 15 '1' 25 '0' '1']\n",
            " [800 15 '1' 27 '1' '0']\n",
            " [1000 15 '1' 34 '1' '1']\n",
            " [1000 15 0.0 26 '1' '1']\n",
            " [800 15 '1' 35 '2' '1']\n",
            " [1000 30 0.0 32 '1' '1']\n",
            " [1000 30 0.0 27 '1' '1']\n",
            " [1000 30 0.0 28 '1' '1']\n",
            " [1000 30 '1' 34 '0' '1']\n",
            " [800 15 0.0 44 '1' '1']\n",
            " [800 15 '1' 34 '1' '1']\n",
            " [800 15 0.0 44 '0' '0']\n",
            " [800 15 0.0 28 '1' '1']\n",
            " [1000 30 0.0 29 '0' '1']\n",
            " [1000 30 0.0 32 '0' '1']\n",
            " [1000 30 0.0 24 '1' '1']\n",
            " [1000 30 0.0 37 '0' '1']\n",
            " [1000 30 '1' 27 '1' '1']\n",
            " [1000 30 '1' 35 '1' '0']\n",
            " [1000 30 0.0 36 '1' '1']\n",
            " [800 15 0.0 35 '2' '1']\n",
            " [800 15 '1' 33 '1' '1']\n",
            " [1000 30 0.0 26 '1' '1']\n",
            " [1000 30 0.0 30 '0' '1']\n",
            " [1000 30 '1' 26 '1' '1']\n",
            " [800 15 0.0 21 '1' '1']\n",
            " [1000 30 0.0 29 '1' '1']\n",
            " [1000 30 0.0 23 '0' '1']\n",
            " [1000 30 0.0 22 '0' '1']\n",
            " [1000 15 0.0 32 '0' '1']]\n",
            "[[1000 30 '1' 26 '1' '1']\n",
            " [1000 30 '1' 26 '2' '1']\n",
            " [1000 30 0.0 28 '1' '0']\n",
            " ...\n",
            " [800 15 '1' 29 '1' '1']\n",
            " [1000 30 '1' 24 '0' '1']\n",
            " [1000 15 0.0 45 '0' '1']]\n",
            "['2' '0' '0' '0' '0' '2' '0' '0' '1' '0' '0' '0' '1' '0' '0' '2' '2' '0'\n",
            " '0' '2' '0' '0' '2' '0' '0' '0' '1' '2' '0' '0' '2' '0' '0' '0' '1' '0'\n",
            " '0' '0' '2' '0' '0' '2' '0' '1' '0' '0' '1' '0' '0' '1' '0' '2' '1' '0'\n",
            " '0' '1' '2' '2' '2' '0' '2' '0' '2' '0' '0' '0' '1' '0' '2' '0' '2' '0'\n",
            " '0' '0' '2' '0' '0' '0' '0' '2' '1' '2' '0' '2' '1' '0' '1' '2' '0' '0'\n",
            " '1' '0' '0' '2' '0' '0' '1' '0' '1' '1' '0' '0' '0' '2' '0' '2' '2' '1'\n",
            " '0' '0' '0' '2' '0' '0' '2' '0' '0' '2' '0' '1' '2' '2' '1' '0' '1' '0'\n",
            " '0' '0' '1' '0' '2' '0' '0' '0' '0' '0' '0' '2' '2' '0' '0' '2' '0' '0'\n",
            " '2' '0' '0' '0' '0' '0']\n"
          ],
          "name": "stdout"
        }
      ]
    },
    {
      "cell_type": "code",
      "metadata": {
        "id": "cNoJHHVy1toq"
      },
      "source": [
        "# Scaling을 수행하지 않고 학습\n",
        "from sklearn.model_selection import train_test_split\n",
        "from sklearn import svm\n",
        "from sklearn import metrics\n",
        "from sklearn.metrics import classification_report,confusion_matrix\n",
        "from sklearn.metrics import accuracy_score, f1_score\n",
        "\n",
        "SVM_model_before_scale2 = svm.SVC()\n",
        "SVM_model_before_scale2.fit(X_train,y_train)\n",
        "\n",
        "svc_prediction_before_scale2 = SVM_model_before_scale2.predict(X_test)\n"
      ],
      "execution_count": 16,
      "outputs": []
    },
    {
      "cell_type": "code",
      "metadata": {
        "id": "AAFIZCNI10Q4"
      },
      "source": [
        "# Scaling을 수행한 후 학습\n",
        "from sklearn.preprocessing import StandardScaler\n",
        "\n",
        "std_scaler = StandardScaler()     # 변형 객체 생성\n",
        "std_scaler.fit(X_train)           # 훈련데이터의 모수 분포 저장\n",
        "X_train_scaled = std_scaler.transform(X_train)    # 훈련 데이터 스케일링\n",
        "X_test_scaled = std_scaler.transform(X_test)      # 테스트 데이터의 스케일링\n",
        "\n",
        "# 학습\n",
        "SVM_model_after_scale2 = svm.SVC()\n",
        "SVM_model_after_scale2.fit(X_train_scaled,y_train)\n",
        "svc_prediction_after_scaled2 = SVM_model_after_scale2.predict(X_test_scaled)"
      ],
      "execution_count": 17,
      "outputs": []
    },
    {
      "cell_type": "code",
      "metadata": {
        "colab": {
          "base_uri": "https://localhost:8080/"
        },
        "id": "vyXBl-S3yf6Y",
        "outputId": "73cd2a6f-17a3-496b-912e-edf44e6e3607"
      },
      "source": [
        "# Scaling 수행 전 결과\n",
        "print('SVM accuracy = ', metrics.accuracy_score(svc_prediction_before_scale2,y_test))\n",
        "before_scaling_report2 = classification_report(y_test,svc_prediction_before_scale2)\n",
        "print(before_scaling_report2)\n",
        "\n",
        "# Scaling 수행 후 결과\n",
        "print('SVM accuracy = ', metrics.accuracy_score(svc_prediction_after_scaled2 ,y_test))\n",
        "after_scaling_report2 = classification_report(y_test,svc_prediction_after_scaled2)\n",
        "print(after_scaling_report2)\n"
      ],
      "execution_count": 18,
      "outputs": [
        {
          "output_type": "stream",
          "text": [
            "SVM accuracy =  0.6066666666666667\n",
            "              precision    recall  f1-score   support\n",
            "\n",
            "           0       0.61      1.00      0.76        91\n",
            "           1       0.00      0.00      0.00        22\n",
            "           2       0.00      0.00      0.00        37\n",
            "\n",
            "    accuracy                           0.61       150\n",
            "   macro avg       0.20      0.33      0.25       150\n",
            "weighted avg       0.37      0.61      0.46       150\n",
            "\n",
            "SVM accuracy =  0.7466666666666667\n",
            "              precision    recall  f1-score   support\n",
            "\n",
            "           0       1.00      1.00      1.00        91\n",
            "           1       0.34      0.77      0.47        22\n",
            "           2       0.44      0.11      0.17        37\n",
            "\n",
            "    accuracy                           0.75       150\n",
            "   macro avg       0.59      0.63      0.55       150\n",
            "weighted avg       0.77      0.75      0.72       150\n",
            "\n"
          ],
          "name": "stdout"
        },
        {
          "output_type": "stream",
          "text": [
            "/usr/local/lib/python3.7/dist-packages/sklearn/metrics/_classification.py:1272: UndefinedMetricWarning: Precision and F-score are ill-defined and being set to 0.0 in labels with no predicted samples. Use `zero_division` parameter to control this behavior.\n",
            "  _warn_prf(average, modifier, msg_start, len(result))\n"
          ],
          "name": "stderr"
        }
      ]
    },
    {
      "cell_type": "code",
      "metadata": {
        "colab": {
          "base_uri": "https://localhost:8080/",
          "height": 279
        },
        "id": "4oCqP8RVdyYl",
        "outputId": "cf6fb790-63ab-419c-a47f-d210d6813ccb"
      },
      "source": [
        "# 오차행렬 시각화 - Scaling 전\n",
        "import matplotlib.pyplot as plt\n",
        "import seaborn as sns\n",
        "sns.heatmap(confusion_matrix(y_test, svc_prediction_before_scale2), annot=True, cmap='Reds')\n",
        "plt.xlabel('Predict')\n",
        "plt.ylabel('Actual')\n",
        "plt.show()"
      ],
      "execution_count": 19,
      "outputs": [
        {
          "output_type": "display_data",
          "data": {
            "image/png": "[encoded data removed]",
            "text/plain": [
              "<Figure size 432x288 with 2 Axes>"
            ]
          },
          "metadata": {
            "tags": [],
            "needs_background": "light"
          }
        }
      ]
    },
    {
      "cell_type": "code",
      "metadata": {
        "colab": {
          "base_uri": "https://localhost:8080/",
          "height": 279
        },
        "id": "gUgZiOsGd1lN",
        "outputId": "7a135272-d692-4c27-c5c9-cf6fb86e9a79"
      },
      "source": [
        "# 오차행렬 시각화 - Scaling 후\n",
        "import matplotlib.pyplot as plt\n",
        "import seaborn as sns\n",
        "sns.heatmap(confusion_matrix(y_test, svc_prediction_after_scaled2), annot=True, cmap='Reds')\n",
        "plt.xlabel('Predict')\n",
        "plt.ylabel('Actual')\n",
        "plt.show()"
      ],
      "execution_count": 20,
      "outputs": [
        {
          "output_type": "display_data",
          "data": {
            "image/png": "[encoded data removed]",
            "text/plain": [
              "<Figure size 432x288 with 2 Axes>"
            ]
          },
          "metadata": {
            "tags": [],
            "needs_background": "light"
          }
        }
      ]
    },
    {
      "cell_type": "markdown",
      "metadata": {
        "id": "D97zORq9T7Fl"
      },
      "source": [
        " → 결과 : **61% -> 75 %** 의 정확도, Scaling 수행 여부가 정확도에 영향을 미침"
      ]
    },
    {
      "cell_type": "markdown",
      "metadata": {
        "id": "NYNssmFICrRE"
      },
      "source": [
        "- **kernel='linear'**"
      ]
    },
    {
      "cell_type": "code",
      "metadata": {
        "id": "1bPzvWiVC9_O"
      },
      "source": [
        "# Scaling을 수행하지 않고 학습\n",
        "from sklearn import svm\n",
        "from sklearn import metrics\n",
        "from sklearn.metrics import classification_report,confusion_matrix\n",
        "from sklearn.metrics import accuracy_score, f1_score\n",
        "\n",
        "SVM_linear_model_before_scale = svm.SVC(kernel='linear')\n",
        "SVM_linear_model_before_scale.fit(X_train,y_train)\n",
        "\n",
        "svc_linear_prediction_before_scale = SVM_linear_model_before_scale.predict(X_test)"
      ],
      "execution_count": 21,
      "outputs": []
    },
    {
      "cell_type": "code",
      "metadata": {
        "id": "e8EJR1RuC-Br"
      },
      "source": [
        "# Scaling을 수행한 후 학습\n",
        "from sklearn.preprocessing import StandardScaler\n",
        "\n",
        "std_scaler = StandardScaler()     # 변형 객체 생성\n",
        "std_scaler.fit(X_train)           # 훈련데이터의 모수 분포 저장\n",
        "X_train_scaled = std_scaler.transform(X_train)    # 훈련 데이터 스케일링\n",
        "X_test_scaled = std_scaler.transform(X_test)      # 테스트 데이터의 스케일링\n",
        "\n",
        "# 학습\n",
        "SVM_linear_model_after_scale = svm.SVC(kernel='linear')\n",
        "SVM_linear_model_after_scale.fit(X_train_scaled,y_train)\n",
        "svc_linear_prediction_after_scaled = SVM_linear_model_after_scale.predict(X_test_scaled)"
      ],
      "execution_count": 22,
      "outputs": []
    },
    {
      "cell_type": "code",
      "metadata": {
        "colab": {
          "base_uri": "https://localhost:8080/"
        },
        "id": "2H4_9kn_C-Eh",
        "outputId": "98d816af-ae72-4698-ef9a-c6d1bbe8de3a"
      },
      "source": [
        "# Scaling 수행 전 결과\n",
        "print('SVM accuracy = ', metrics.accuracy_score(svc_linear_prediction_before_scale,y_test))\n",
        "before_scaling_report = classification_report(y_test,svc_linear_prediction_before_scale)\n",
        "print(before_scaling_report)\n",
        "\n",
        "# Scaling 수행 후 결과\n",
        "print('SVM accuracy = ', metrics.accuracy_score(svc_linear_prediction_after_scaled ,y_test))\n",
        "after_scaling_report = classification_report(y_test,svc_linear_prediction_after_scaled)\n",
        "print(after_scaling_report)"
      ],
      "execution_count": 23,
      "outputs": [
        {
          "output_type": "stream",
          "text": [
            "SVM accuracy =  0.7733333333333333\n",
            "              precision    recall  f1-score   support\n",
            "\n",
            "           0       1.00      1.00      1.00        91\n",
            "           1       0.38      0.91      0.54        22\n",
            "           2       0.71      0.14      0.23        37\n",
            "\n",
            "    accuracy                           0.77       150\n",
            "   macro avg       0.70      0.68      0.59       150\n",
            "weighted avg       0.84      0.77      0.74       150\n",
            "\n",
            "SVM accuracy =  0.7733333333333333\n",
            "              precision    recall  f1-score   support\n",
            "\n",
            "           0       1.00      1.00      1.00        91\n",
            "           1       0.38      0.91      0.54        22\n",
            "           2       0.71      0.14      0.23        37\n",
            "\n",
            "    accuracy                           0.77       150\n",
            "   macro avg       0.70      0.68      0.59       150\n",
            "weighted avg       0.84      0.77      0.74       150\n",
            "\n"
          ],
          "name": "stdout"
        }
      ]
    },
    {
      "cell_type": "markdown",
      "metadata": {
        "id": "PW_l9mpYISdH"
      },
      "source": [
        "- **kernel=\"sigmoid\"**"
      ]
    },
    {
      "cell_type": "code",
      "metadata": {
        "id": "XP9a3EmfC-KO"
      },
      "source": [
        "# Scaling을 수행하지 않고 학습\n",
        "from sklearn import svm\n",
        "from sklearn import metrics\n",
        "from sklearn.metrics import classification_report,confusion_matrix\n",
        "from sklearn.metrics import accuracy_score, f1_score\n",
        "\n",
        "SVM_sigmoid_model_before_scale = svm.SVC(kernel='sigmoid')\n",
        "SVM_sigmoid_model_before_scale.fit(X_train,y_train)\n",
        "\n",
        "svc_sigmoid_prediction_before_scale = SVM_sigmoid_model_before_scale.predict(X_test)"
      ],
      "execution_count": 24,
      "outputs": []
    },
    {
      "cell_type": "code",
      "metadata": {
        "id": "g1ytjVboC-Od"
      },
      "source": [
        "# Scaling을 수행한 후 학습\n",
        "from sklearn.preprocessing import StandardScaler\n",
        "\n",
        "std_scaler = StandardScaler()     # 변형 객체 생성\n",
        "std_scaler.fit(X_train)           # 훈련데이터의 모수 분포 저장\n",
        "X_train_scaled = std_scaler.transform(X_train)    # 훈련 데이터 스케일링\n",
        "X_test_scaled = std_scaler.transform(X_test)      # 테스트 데이터의 스케일링\n",
        "\n",
        "# 학습\n",
        "SVM_sigmoid_model_after_scale = svm.SVC(kernel='sigmoid')\n",
        "SVM_sigmoid_model_after_scale.fit(X_train_scaled,y_train)\n",
        "svc_sigmoid_prediction_after_scaled = SVM_sigmoid_model_after_scale.predict(X_test_scaled)"
      ],
      "execution_count": 25,
      "outputs": []
    },
    {
      "cell_type": "code",
      "metadata": {
        "colab": {
          "base_uri": "https://localhost:8080/"
        },
        "id": "Mp4ZI2AsD_r3",
        "outputId": "aaaa7d10-2ab3-4426-fb26-53a46bacfede"
      },
      "source": [
        "# Scaling 수행 전 결과\n",
        "print('SVM accuracy = ', metrics.accuracy_score(svc_sigmoid_prediction_before_scale,y_test))\n",
        "before_scaling_report = classification_report(y_test,svc_sigmoid_prediction_before_scale)\n",
        "print(before_scaling_report)\n",
        "\n",
        "# Scaling 수행 후 결과\n",
        "print('SVM accuracy = ', metrics.accuracy_score(svc_sigmoid_prediction_after_scaled ,y_test))\n",
        "after_scaling_report = classification_report(y_test,svc_sigmoid_prediction_after_scaled)\n",
        "print(after_scaling_report)"
      ],
      "execution_count": 26,
      "outputs": [
        {
          "output_type": "stream",
          "text": [
            "SVM accuracy =  0.6066666666666667\n",
            "              precision    recall  f1-score   support\n",
            "\n",
            "           0       0.61      1.00      0.76        91\n",
            "           1       0.00      0.00      0.00        22\n",
            "           2       0.00      0.00      0.00        37\n",
            "\n",
            "    accuracy                           0.61       150\n",
            "   macro avg       0.20      0.33      0.25       150\n",
            "weighted avg       0.37      0.61      0.46       150\n",
            "\n",
            "SVM accuracy =  0.7733333333333333\n",
            "              precision    recall  f1-score   support\n",
            "\n",
            "           0       1.00      0.98      0.99        91\n",
            "           1       0.36      0.68      0.47        22\n",
            "           2       0.63      0.32      0.43        37\n",
            "\n",
            "    accuracy                           0.77       150\n",
            "   macro avg       0.66      0.66      0.63       150\n",
            "weighted avg       0.81      0.77      0.77       150\n",
            "\n"
          ],
          "name": "stdout"
        },
        {
          "output_type": "stream",
          "text": [
            "/usr/local/lib/python3.7/dist-packages/sklearn/metrics/_classification.py:1272: UndefinedMetricWarning: Precision and F-score are ill-defined and being set to 0.0 in labels with no predicted samples. Use `zero_division` parameter to control this behavior.\n",
            "  _warn_prf(average, modifier, msg_start, len(result))\n"
          ],
          "name": "stderr"
        }
      ]
    },
    {
      "cell_type": "markdown",
      "metadata": {
        "id": "R-QyMWrFGLLC"
      },
      "source": [
        "- **kernel='poly'**"
      ]
    },
    {
      "cell_type": "code",
      "metadata": {
        "id": "_rZ3-PgmD_uN"
      },
      "source": [
        "# Scaling을 수행하지 않고 학습\n",
        "from sklearn import svm\n",
        "from sklearn import metrics\n",
        "from sklearn.metrics import classification_report,confusion_matrix\n",
        "from sklearn.metrics import accuracy_score, f1_score\n",
        "\n",
        "SVM_poly_model_before_scale = svm.SVC(kernel='poly')\n",
        "SVM_poly_model_before_scale.fit(X_train,y_train)\n",
        "\n",
        "svc_poly_prediction_before_scale = SVM_poly_model_before_scale.predict(X_test)"
      ],
      "execution_count": 27,
      "outputs": []
    },
    {
      "cell_type": "code",
      "metadata": {
        "id": "4eyCZXnMD_xR"
      },
      "source": [
        "# Scaling을 수행한 후 학습\n",
        "from sklearn.preprocessing import StandardScaler\n",
        "\n",
        "std_scaler = StandardScaler()     # 변형 객체 생성\n",
        "std_scaler.fit(X_train)           # 훈련데이터의 모수 분포 저장\n",
        "X_train_scaled = std_scaler.transform(X_train)    # 훈련 데이터 스케일링\n",
        "X_test_scaled = std_scaler.transform(X_test)      # 테스트 데이터의 스케일링\n",
        "\n",
        "# 학습\n",
        "SVM_poly_model_after_scale = svm.SVC(kernel='poly')\n",
        "SVM_poly_model_after_scale.fit(X_train_scaled,y_train)\n",
        "svc_poly_prediction_after_scaled = SVM_poly_model_after_scale.predict(X_test_scaled)"
      ],
      "execution_count": 28,
      "outputs": []
    },
    {
      "cell_type": "code",
      "metadata": {
        "colab": {
          "base_uri": "https://localhost:8080/"
        },
        "id": "zRrpVQHeD_ze",
        "outputId": "b506c150-92b4-45dd-fac1-6385441155cf"
      },
      "source": [
        "# Scaling 수행 전 결과\n",
        "print('SVM accuracy = ', metrics.accuracy_score(svc_poly_prediction_before_scale,y_test))\n",
        "before_scaling_report = classification_report(y_test,svc_poly_prediction_before_scale)\n",
        "print(before_scaling_report)\n",
        "\n",
        "# Scaling 수행 후 결과\n",
        "print('SVM accuracy = ', metrics.accuracy_score(svc_poly_prediction_after_scaled ,y_test))\n",
        "after_scaling_report = classification_report(y_test,svc_poly_prediction_after_scaled)\n",
        "print(after_scaling_report)"
      ],
      "execution_count": 29,
      "outputs": [
        {
          "output_type": "stream",
          "text": [
            "SVM accuracy =  0.6066666666666667\n",
            "              precision    recall  f1-score   support\n",
            "\n",
            "           0       0.61      1.00      0.76        91\n",
            "           1       0.00      0.00      0.00        22\n",
            "           2       0.00      0.00      0.00        37\n",
            "\n",
            "    accuracy                           0.61       150\n",
            "   macro avg       0.20      0.33      0.25       150\n",
            "weighted avg       0.37      0.61      0.46       150\n",
            "\n",
            "SVM accuracy =  0.7666666666666667\n",
            "              precision    recall  f1-score   support\n",
            "\n",
            "           0       1.00      1.00      1.00        91\n",
            "           1       0.37      0.82      0.51        22\n",
            "           2       0.60      0.16      0.26        37\n",
            "\n",
            "    accuracy                           0.77       150\n",
            "   macro avg       0.66      0.66      0.59       150\n",
            "weighted avg       0.81      0.77      0.74       150\n",
            "\n"
          ],
          "name": "stdout"
        },
        {
          "output_type": "stream",
          "text": [
            "/usr/local/lib/python3.7/dist-packages/sklearn/metrics/_classification.py:1272: UndefinedMetricWarning: Precision and F-score are ill-defined and being set to 0.0 in labels with no predicted samples. Use `zero_division` parameter to control this behavior.\n",
            "  _warn_prf(average, modifier, msg_start, len(result))\n"
          ],
          "name": "stderr"
        }
      ]
    },
    {
      "cell_type": "markdown",
      "metadata": {
        "id": "ydTQeqKiUeQG"
      },
      "source": [
        "# **One-hot encoding** 방식으로 training data 변환"
      ]
    },
    {
      "cell_type": "code",
      "metadata": {
        "colab": {
          "base_uri": "https://localhost:8080/",
          "height": 260
        },
        "id": "mPioT8ALU0_F",
        "outputId": "8ca6fa65-57cc-463a-d8aa-2e5b87c0c343"
      },
      "source": [
        "# 원본 데이터 불러오기\n",
        "import numpy as np\n",
        "import pandas as pd\n",
        "df = pd.read_csv(\"/content/drive/MyDrive/AI test/loan_payment analysis/Loan payments data_원본.csv\")\n",
        "#df = df.drop(['Unnamed: 0'],axis=1)\n",
        "df.head()"
      ],
      "execution_count": 30,
      "outputs": [
        {
          "output_type": "execute_result",
          "data": {
            "text/html": [
              "<div>\n",
              "<style scoped>\n",
              "    .dataframe tbody tr th:only-of-type {\n",
              "        vertical-align: middle;\n",
              "    }\n",
              "\n",
              "    .dataframe tbody tr th {\n",
              "        vertical-align: top;\n",
              "    }\n",
              "\n",
              "    .dataframe thead th {\n",
              "        text-align: right;\n",
              "    }\n",
              "</style>\n",
              "<table border=\"1\" class=\"dataframe\">\n",
              "  <thead>\n",
              "    <tr style=\"text-align: right;\">\n",
              "      <th></th>\n",
              "      <th>Loan_ID</th>\n",
              "      <th>loan_status</th>\n",
              "      <th>Principal</th>\n",
              "      <th>terms</th>\n",
              "      <th>effective_date</th>\n",
              "      <th>due_date</th>\n",
              "      <th>paid_off_time</th>\n",
              "      <th>past_due_days</th>\n",
              "      <th>age</th>\n",
              "      <th>education</th>\n",
              "      <th>Gender</th>\n",
              "    </tr>\n",
              "  </thead>\n",
              "  <tbody>\n",
              "    <tr>\n",
              "      <th>0</th>\n",
              "      <td>xqd20166231</td>\n",
              "      <td>PAIDOFF</td>\n",
              "      <td>1000</td>\n",
              "      <td>30</td>\n",
              "      <td>9/8/2016</td>\n",
              "      <td>10/7/2016</td>\n",
              "      <td>9/14/2016 19:31</td>\n",
              "      <td>NaN</td>\n",
              "      <td>45</td>\n",
              "      <td>High School or Below</td>\n",
              "      <td>male</td>\n",
              "    </tr>\n",
              "    <tr>\n",
              "      <th>1</th>\n",
              "      <td>xqd20168902</td>\n",
              "      <td>PAIDOFF</td>\n",
              "      <td>1000</td>\n",
              "      <td>30</td>\n",
              "      <td>9/8/2016</td>\n",
              "      <td>10/7/2016</td>\n",
              "      <td>10/7/2016 9:00</td>\n",
              "      <td>NaN</td>\n",
              "      <td>50</td>\n",
              "      <td>Bechalor</td>\n",
              "      <td>female</td>\n",
              "    </tr>\n",
              "    <tr>\n",
              "      <th>2</th>\n",
              "      <td>xqd20160003</td>\n",
              "      <td>PAIDOFF</td>\n",
              "      <td>1000</td>\n",
              "      <td>30</td>\n",
              "      <td>9/8/2016</td>\n",
              "      <td>10/7/2016</td>\n",
              "      <td>9/25/2016 16:58</td>\n",
              "      <td>NaN</td>\n",
              "      <td>33</td>\n",
              "      <td>Bechalor</td>\n",
              "      <td>female</td>\n",
              "    </tr>\n",
              "    <tr>\n",
              "      <th>3</th>\n",
              "      <td>xqd20160004</td>\n",
              "      <td>PAIDOFF</td>\n",
              "      <td>1000</td>\n",
              "      <td>15</td>\n",
              "      <td>9/8/2016</td>\n",
              "      <td>9/22/2016</td>\n",
              "      <td>9/22/2016 20:00</td>\n",
              "      <td>NaN</td>\n",
              "      <td>27</td>\n",
              "      <td>college</td>\n",
              "      <td>male</td>\n",
              "    </tr>\n",
              "    <tr>\n",
              "      <th>4</th>\n",
              "      <td>xqd20160005</td>\n",
              "      <td>PAIDOFF</td>\n",
              "      <td>1000</td>\n",
              "      <td>30</td>\n",
              "      <td>9/9/2016</td>\n",
              "      <td>10/8/2016</td>\n",
              "      <td>9/23/2016 21:36</td>\n",
              "      <td>NaN</td>\n",
              "      <td>28</td>\n",
              "      <td>college</td>\n",
              "      <td>female</td>\n",
              "    </tr>\n",
              "  </tbody>\n",
              "</table>\n",
              "</div>"
            ],
            "text/plain": [
              "       Loan_ID loan_status  Principal  ...  age             education  Gender\n",
              "0  xqd20166231     PAIDOFF       1000  ...   45  High School or Below    male\n",
              "1  xqd20168902     PAIDOFF       1000  ...   50              Bechalor  female\n",
              "2  xqd20160003     PAIDOFF       1000  ...   33              Bechalor  female\n",
              "3  xqd20160004     PAIDOFF       1000  ...   27               college    male\n",
              "4  xqd20160005     PAIDOFF       1000  ...   28               college  female\n",
              "\n",
              "[5 rows x 11 columns]"
            ]
          },
          "metadata": {
            "tags": []
          },
          "execution_count": 30
        }
      ]
    },
    {
      "cell_type": "code",
      "metadata": {
        "colab": {
          "base_uri": "https://localhost:8080/",
          "height": 205
        },
        "id": "NjycuGUmU6Td",
        "outputId": "01efbe9c-9db8-42b2-a302-e631624a8108"
      },
      "source": [
        "# 사용하지 않을 열 삭제(past_due_days, Loan_ID 제외)\n",
        "df.drop(['Loan_ID', 'effective_date', 'due_date' , 'paid_off_time'] ,axis = 1, inplace = True)\n",
        "df.head()"
      ],
      "execution_count": 31,
      "outputs": [
        {
          "output_type": "execute_result",
          "data": {
            "text/html": [
              "<div>\n",
              "<style scoped>\n",
              "    .dataframe tbody tr th:only-of-type {\n",
              "        vertical-align: middle;\n",
              "    }\n",
              "\n",
              "    .dataframe tbody tr th {\n",
              "        vertical-align: top;\n",
              "    }\n",
              "\n",
              "    .dataframe thead th {\n",
              "        text-align: right;\n",
              "    }\n",
              "</style>\n",
              "<table border=\"1\" class=\"dataframe\">\n",
              "  <thead>\n",
              "    <tr style=\"text-align: right;\">\n",
              "      <th></th>\n",
              "      <th>loan_status</th>\n",
              "      <th>Principal</th>\n",
              "      <th>terms</th>\n",
              "      <th>past_due_days</th>\n",
              "      <th>age</th>\n",
              "      <th>education</th>\n",
              "      <th>Gender</th>\n",
              "    </tr>\n",
              "  </thead>\n",
              "  <tbody>\n",
              "    <tr>\n",
              "      <th>0</th>\n",
              "      <td>PAIDOFF</td>\n",
              "      <td>1000</td>\n",
              "      <td>30</td>\n",
              "      <td>NaN</td>\n",
              "      <td>45</td>\n",
              "      <td>High School or Below</td>\n",
              "      <td>male</td>\n",
              "    </tr>\n",
              "    <tr>\n",
              "      <th>1</th>\n",
              "      <td>PAIDOFF</td>\n",
              "      <td>1000</td>\n",
              "      <td>30</td>\n",
              "      <td>NaN</td>\n",
              "      <td>50</td>\n",
              "      <td>Bechalor</td>\n",
              "      <td>female</td>\n",
              "    </tr>\n",
              "    <tr>\n",
              "      <th>2</th>\n",
              "      <td>PAIDOFF</td>\n",
              "      <td>1000</td>\n",
              "      <td>30</td>\n",
              "      <td>NaN</td>\n",
              "      <td>33</td>\n",
              "      <td>Bechalor</td>\n",
              "      <td>female</td>\n",
              "    </tr>\n",
              "    <tr>\n",
              "      <th>3</th>\n",
              "      <td>PAIDOFF</td>\n",
              "      <td>1000</td>\n",
              "      <td>15</td>\n",
              "      <td>NaN</td>\n",
              "      <td>27</td>\n",
              "      <td>college</td>\n",
              "      <td>male</td>\n",
              "    </tr>\n",
              "    <tr>\n",
              "      <th>4</th>\n",
              "      <td>PAIDOFF</td>\n",
              "      <td>1000</td>\n",
              "      <td>30</td>\n",
              "      <td>NaN</td>\n",
              "      <td>28</td>\n",
              "      <td>college</td>\n",
              "      <td>female</td>\n",
              "    </tr>\n",
              "  </tbody>\n",
              "</table>\n",
              "</div>"
            ],
            "text/plain": [
              "  loan_status  Principal  terms  ...  age             education  Gender\n",
              "0     PAIDOFF       1000     30  ...   45  High School or Below    male\n",
              "1     PAIDOFF       1000     30  ...   50              Bechalor  female\n",
              "2     PAIDOFF       1000     30  ...   33              Bechalor  female\n",
              "3     PAIDOFF       1000     15  ...   27               college    male\n",
              "4     PAIDOFF       1000     30  ...   28               college  female\n",
              "\n",
              "[5 rows x 7 columns]"
            ]
          },
          "metadata": {
            "tags": []
          },
          "execution_count": 31
        }
      ]
    },
    {
      "cell_type": "code",
      "metadata": {
        "colab": {
          "base_uri": "https://localhost:8080/",
          "height": 422
        },
        "id": "DxMl4hw6VUmE",
        "outputId": "6bd72d6b-1b14-4dbd-b6eb-54c28c60bc0b"
      },
      "source": [
        "#past_due_days 처리\n",
        "df['past_due_days'].unique()\n",
        "df[\"past_due_days\"]= df[\"past_due_days\"].fillna(0)\n",
        "df[\"past_due_days\"]= df[\"past_due_days\"].replace([  76., 61., 75., 60., 59., 74., 29., 44., 58., 73., 28.,  2.,\n",
        "        4., 13.,  5.,  3., 12., 27.,  1., 25., 24., 36.,  7., 14., 23.,\n",
        "        6., 38., 19., 52., 51.,  9., 56.,  8.], \"1\")\n",
        "df"
      ],
      "execution_count": 32,
      "outputs": [
        {
          "output_type": "execute_result",
          "data": {
            "text/html": [
              "<div>\n",
              "<style scoped>\n",
              "    .dataframe tbody tr th:only-of-type {\n",
              "        vertical-align: middle;\n",
              "    }\n",
              "\n",
              "    .dataframe tbody tr th {\n",
              "        vertical-align: top;\n",
              "    }\n",
              "\n",
              "    .dataframe thead th {\n",
              "        text-align: right;\n",
              "    }\n",
              "</style>\n",
              "<table border=\"1\" class=\"dataframe\">\n",
              "  <thead>\n",
              "    <tr style=\"text-align: right;\">\n",
              "      <th></th>\n",
              "      <th>loan_status</th>\n",
              "      <th>Principal</th>\n",
              "      <th>terms</th>\n",
              "      <th>past_due_days</th>\n",
              "      <th>age</th>\n",
              "      <th>education</th>\n",
              "      <th>Gender</th>\n",
              "    </tr>\n",
              "  </thead>\n",
              "  <tbody>\n",
              "    <tr>\n",
              "      <th>0</th>\n",
              "      <td>PAIDOFF</td>\n",
              "      <td>1000</td>\n",
              "      <td>30</td>\n",
              "      <td>0</td>\n",
              "      <td>45</td>\n",
              "      <td>High School or Below</td>\n",
              "      <td>male</td>\n",
              "    </tr>\n",
              "    <tr>\n",
              "      <th>1</th>\n",
              "      <td>PAIDOFF</td>\n",
              "      <td>1000</td>\n",
              "      <td>30</td>\n",
              "      <td>0</td>\n",
              "      <td>50</td>\n",
              "      <td>Bechalor</td>\n",
              "      <td>female</td>\n",
              "    </tr>\n",
              "    <tr>\n",
              "      <th>2</th>\n",
              "      <td>PAIDOFF</td>\n",
              "      <td>1000</td>\n",
              "      <td>30</td>\n",
              "      <td>0</td>\n",
              "      <td>33</td>\n",
              "      <td>Bechalor</td>\n",
              "      <td>female</td>\n",
              "    </tr>\n",
              "    <tr>\n",
              "      <th>3</th>\n",
              "      <td>PAIDOFF</td>\n",
              "      <td>1000</td>\n",
              "      <td>15</td>\n",
              "      <td>0</td>\n",
              "      <td>27</td>\n",
              "      <td>college</td>\n",
              "      <td>male</td>\n",
              "    </tr>\n",
              "    <tr>\n",
              "      <th>4</th>\n",
              "      <td>PAIDOFF</td>\n",
              "      <td>1000</td>\n",
              "      <td>30</td>\n",
              "      <td>0</td>\n",
              "      <td>28</td>\n",
              "      <td>college</td>\n",
              "      <td>female</td>\n",
              "    </tr>\n",
              "    <tr>\n",
              "      <th>...</th>\n",
              "      <td>...</td>\n",
              "      <td>...</td>\n",
              "      <td>...</td>\n",
              "      <td>...</td>\n",
              "      <td>...</td>\n",
              "      <td>...</td>\n",
              "      <td>...</td>\n",
              "    </tr>\n",
              "    <tr>\n",
              "      <th>495</th>\n",
              "      <td>COLLECTION_PAIDOFF</td>\n",
              "      <td>1000</td>\n",
              "      <td>30</td>\n",
              "      <td>1</td>\n",
              "      <td>28</td>\n",
              "      <td>High School or Below</td>\n",
              "      <td>male</td>\n",
              "    </tr>\n",
              "    <tr>\n",
              "      <th>496</th>\n",
              "      <td>COLLECTION_PAIDOFF</td>\n",
              "      <td>1000</td>\n",
              "      <td>15</td>\n",
              "      <td>1</td>\n",
              "      <td>26</td>\n",
              "      <td>High School or Below</td>\n",
              "      <td>male</td>\n",
              "    </tr>\n",
              "    <tr>\n",
              "      <th>497</th>\n",
              "      <td>COLLECTION_PAIDOFF</td>\n",
              "      <td>800</td>\n",
              "      <td>15</td>\n",
              "      <td>1</td>\n",
              "      <td>30</td>\n",
              "      <td>college</td>\n",
              "      <td>male</td>\n",
              "    </tr>\n",
              "    <tr>\n",
              "      <th>498</th>\n",
              "      <td>COLLECTION_PAIDOFF</td>\n",
              "      <td>1000</td>\n",
              "      <td>30</td>\n",
              "      <td>1</td>\n",
              "      <td>38</td>\n",
              "      <td>college</td>\n",
              "      <td>female</td>\n",
              "    </tr>\n",
              "    <tr>\n",
              "      <th>499</th>\n",
              "      <td>COLLECTION_PAIDOFF</td>\n",
              "      <td>1000</td>\n",
              "      <td>30</td>\n",
              "      <td>1</td>\n",
              "      <td>28</td>\n",
              "      <td>High School or Below</td>\n",
              "      <td>male</td>\n",
              "    </tr>\n",
              "  </tbody>\n",
              "</table>\n",
              "<p>500 rows × 7 columns</p>\n",
              "</div>"
            ],
            "text/plain": [
              "            loan_status  Principal  terms  ... age             education  Gender\n",
              "0               PAIDOFF       1000     30  ...  45  High School or Below    male\n",
              "1               PAIDOFF       1000     30  ...  50              Bechalor  female\n",
              "2               PAIDOFF       1000     30  ...  33              Bechalor  female\n",
              "3               PAIDOFF       1000     15  ...  27               college    male\n",
              "4               PAIDOFF       1000     30  ...  28               college  female\n",
              "..                  ...        ...    ...  ...  ..                   ...     ...\n",
              "495  COLLECTION_PAIDOFF       1000     30  ...  28  High School or Below    male\n",
              "496  COLLECTION_PAIDOFF       1000     15  ...  26  High School or Below    male\n",
              "497  COLLECTION_PAIDOFF        800     15  ...  30               college    male\n",
              "498  COLLECTION_PAIDOFF       1000     30  ...  38               college  female\n",
              "499  COLLECTION_PAIDOFF       1000     30  ...  28  High School or Below    male\n",
              "\n",
              "[500 rows x 7 columns]"
            ]
          },
          "metadata": {
            "tags": []
          },
          "execution_count": 32
        }
      ]
    },
    {
      "cell_type": "code",
      "metadata": {
        "id": "bVnyFfOKb1YY"
      },
      "source": [
        "df[\"loan_status\"]= df[\"loan_status\"].replace(['PAIDOFF', 'COLLECTION', 'COLLECTION_PAIDOFF'],[\"0\",\"1\",\"2\"])"
      ],
      "execution_count": 33,
      "outputs": []
    },
    {
      "cell_type": "code",
      "metadata": {
        "id": "dQs24V5wZZBi"
      },
      "source": [
        "df = pd.get_dummies(df, columns = ['education'])\n",
        "df = pd.get_dummies(df, columns = ['Gender'])"
      ],
      "execution_count": 34,
      "outputs": []
    },
    {
      "cell_type": "code",
      "metadata": {
        "id": "rM57tTLpVUoD"
      },
      "source": [
        "df.dropna(inplace = True)"
      ],
      "execution_count": 35,
      "outputs": []
    },
    {
      "cell_type": "code",
      "metadata": {
        "id": "q3Moa9NDVUrV"
      },
      "source": [
        "# y, 즉 예측값이 loan_status일 때\n",
        "from sklearn.model_selection import train_test_split\n",
        "\n",
        "X = df.iloc[1:501,1:].values\n",
        "y = df.iloc[1:501,0].values\n",
        "X_train, X_test, y_train, y_test = train_test_split(X, y, test_size=0.3,random_state=42)"
      ],
      "execution_count": 37,
      "outputs": []
    },
    {
      "cell_type": "code",
      "metadata": {
        "id": "raMmAeA7WAbA"
      },
      "source": [
        "# Scaling을 수행하지 않고 학습\n",
        "from sklearn.model_selection import train_test_split\n",
        "from sklearn import svm\n",
        "from sklearn import metrics\n",
        "from sklearn.metrics import classification_report,confusion_matrix\n",
        "from sklearn.metrics import accuracy_score, f1_score\n",
        "\n",
        "SVM_model_before_scale3 = svm.SVC()\n",
        "SVM_model_before_scale3.fit(X_train,y_train)\n",
        "\n",
        "svc_prediction_before_scale3 = SVM_model_before_scale3.predict(X_test)"
      ],
      "execution_count": 38,
      "outputs": []
    },
    {
      "cell_type": "code",
      "metadata": {
        "id": "nKVhM2LaWAd0"
      },
      "source": [
        "# Scaling을 수행한 후 학습\n",
        "from sklearn.preprocessing import StandardScaler\n",
        "\n",
        "std_scaler = StandardScaler()     # 변형 객체 생성\n",
        "std_scaler.fit(X_train)           # 훈련데이터의 모수 분포 저장\n",
        "X_train_scaled = std_scaler.transform(X_train)    # 훈련 데이터 스케일링\n",
        "X_test_scaled = std_scaler.transform(X_test)      # 테스트 데이터의 스케일링\n",
        "\n",
        "# 학습\n",
        "SVM_model_after_scale3 = svm.SVC()\n",
        "SVM_model_after_scale3.fit(X_train_scaled,y_train)\n",
        "svc_prediction_after_scaled3 = SVM_model_after_scale3.predict(X_test_scaled)"
      ],
      "execution_count": 39,
      "outputs": []
    },
    {
      "cell_type": "code",
      "metadata": {
        "colab": {
          "base_uri": "https://localhost:8080/"
        },
        "id": "zWE3j7QBWAft",
        "outputId": "a44e833b-f410-4b49-80fa-c1c43f29b025"
      },
      "source": [
        "# Scaling 수행 전 결과\n",
        "print('SVM accuracy = ', metrics.accuracy_score(svc_prediction_before_scale3,y_test))\n",
        "before_scaling_report3 = classification_report(y_test,svc_prediction_before_scale3)\n",
        "print(before_scaling_report3)\n",
        "\n",
        "# Scaling 수행 후 결과\n",
        "print('SVM accuracy = ', metrics.accuracy_score(svc_prediction_after_scaled3 ,y_test))\n",
        "after_scaling_report3 = classification_report(y_test,svc_prediction_after_scaled3)\n",
        "print(after_scaling_report3)"
      ],
      "execution_count": 40,
      "outputs": [
        {
          "output_type": "stream",
          "text": [
            "SVM accuracy =  0.6066666666666667\n",
            "              precision    recall  f1-score   support\n",
            "\n",
            "           0       0.61      1.00      0.76        91\n",
            "           1       0.00      0.00      0.00        22\n",
            "           2       0.00      0.00      0.00        37\n",
            "\n",
            "    accuracy                           0.61       150\n",
            "   macro avg       0.20      0.33      0.25       150\n",
            "weighted avg       0.37      0.61      0.46       150\n",
            "\n",
            "SVM accuracy =  0.7866666666666666\n",
            "              precision    recall  f1-score   support\n",
            "\n",
            "           0       1.00      1.00      1.00        91\n",
            "           1       0.40      0.86      0.54        22\n",
            "           2       0.73      0.22      0.33        37\n",
            "\n",
            "    accuracy                           0.79       150\n",
            "   macro avg       0.71      0.69      0.63       150\n",
            "weighted avg       0.84      0.79      0.77       150\n",
            "\n"
          ],
          "name": "stdout"
        },
        {
          "output_type": "stream",
          "text": [
            "/usr/local/lib/python3.7/dist-packages/sklearn/metrics/_classification.py:1272: UndefinedMetricWarning: Precision and F-score are ill-defined and being set to 0.0 in labels with no predicted samples. Use `zero_division` parameter to control this behavior.\n",
            "  _warn_prf(average, modifier, msg_start, len(result))\n"
          ],
          "name": "stderr"
        }
      ]
    },
    {
      "cell_type": "code",
      "metadata": {
        "colab": {
          "base_uri": "https://localhost:8080/",
          "height": 279
        },
        "id": "z7LjSEfUeMf9",
        "outputId": "33b8d486-4391-401f-8226-3dd78d58b5ac"
      },
      "source": [
        "# 오차행렬 시각화 - Scaling 전\n",
        "import matplotlib.pyplot as plt\n",
        "import seaborn as sns\n",
        "sns.heatmap(confusion_matrix(y_test, svc_prediction_before_scale3), annot=True, cmap='Reds')\n",
        "plt.xlabel('Predict')\n",
        "plt.ylabel('Actual')\n",
        "plt.show()"
      ],
      "execution_count": 41,
      "outputs": [
        {
          "output_type": "display_data",
          "data": {
            "image/png": "[encoded data removed]",
            "text/plain": [
              "<Figure size 432x288 with 2 Axes>"
            ]
          },
          "metadata": {
            "tags": [],
            "needs_background": "light"
          }
        }
      ]
    },
    {
      "cell_type": "code",
      "metadata": {
        "colab": {
          "base_uri": "https://localhost:8080/",
          "height": 279
        },
        "id": "BsN6eMOJeSM_",
        "outputId": "6949eef7-8316-4306-f992-618c5d48ee9b"
      },
      "source": [
        "# 오차행렬 시각화 - Scaling 후\n",
        "import matplotlib.pyplot as plt\n",
        "import seaborn as sns\n",
        "sns.heatmap(confusion_matrix(y_test, svc_prediction_after_scaled3), annot=True, cmap='Reds')\n",
        "plt.xlabel('Predict')\n",
        "plt.ylabel('Actual')\n",
        "plt.show()"
      ],
      "execution_count": 42,
      "outputs": [
        {
          "output_type": "display_data",
          "data": {
            "image/png": "[encoded data removed]",
            "text/plain": [
              "<Figure size 432x288 with 2 Axes>"
            ]
          },
          "metadata": {
            "tags": [],
            "needs_background": "light"
          }
        }
      ]
    },
    {
      "cell_type": "code",
      "metadata": {
        "id": "bk49s44Qsoz4",
        "colab": {
          "base_uri": "https://localhost:8080/"
        },
        "outputId": "6b5340ed-9ab2-4f1e-b5b9-15b20bc8cb9c"
      },
      "source": [
        "# Scaling 수행 전 데이터셋 정확도\n",
        "print(\"<Scaling 전>\")\n",
        "print(\"훈련 세트 정확도: {:.3f}\".format(SVM_model_before_scale3.score(X_train, y_train)))\n",
        "print(\"테스트 세트 정확도: {:.3f}\".format(SVM_model_before_scale3.score(X_test, y_test)))\n",
        "print()\n",
        "# Scaling 수행 전 데이터셋 정확도\n",
        "print(\"<Scaling 후>\")\n",
        "print(\"훈련 세트 정확도: {:.3f}\".format(SVM_model_after_scale3.score(X_train, y_train)))\n",
        "print(\"테스트 세트 정확도: {:.3f}\".format(SVM_model_after_scale3.score(X_test, y_test)))"
      ],
      "execution_count": 43,
      "outputs": [
        {
          "output_type": "stream",
          "text": [
            "<Scaling 전>\n",
            "훈련 세트 정확도: 0.596\n",
            "테스트 세트 정확도: 0.607\n",
            "\n",
            "<Scaling 후>\n",
            "훈련 세트 정확도: 0.596\n",
            "테스트 세트 정확도: 0.607\n"
          ],
          "name": "stdout"
        }
      ]
    },
    {
      "cell_type": "markdown",
      "metadata": {
        "id": "Zo9Fm9sTcHAr"
      },
      "source": [
        " → 결과 : **61% -> 79 %** 의 정확도, Scaling 후 정확도가 **약 80%**까지 도달함"
      ]
    },
    {
      "cell_type": "markdown",
      "metadata": {
        "id": "dUF7gcjhOgTR"
      },
      "source": [
        "**- kernel = 'linear'**"
      ]
    },
    {
      "cell_type": "code",
      "metadata": {
        "id": "rzh2wqI2Ob3U"
      },
      "source": [
        "# Scaling을 수행하지 않고 학습\n",
        "from sklearn import svm\n",
        "from sklearn import metrics\n",
        "from sklearn.metrics import classification_report,confusion_matrix\n",
        "from sklearn.metrics import accuracy_score, f1_score\n",
        "\n",
        "SVM_linear_model_before_scale = svm.SVC(kernel='linear')\n",
        "SVM_linear_model_before_scale.fit(X_train,y_train)\n",
        "\n",
        "svc_linear_prediction_before_scale = SVM_linear_model_before_scale.predict(X_test)"
      ],
      "execution_count": 44,
      "outputs": []
    },
    {
      "cell_type": "code",
      "metadata": {
        "id": "kqDvdiwrOmQX"
      },
      "source": [
        "# Scaling을 수행한 후 학습\n",
        "from sklearn.preprocessing import StandardScaler\n",
        "\n",
        "std_scaler = StandardScaler()     # 변형 객체 생성\n",
        "std_scaler.fit(X_train)           # 훈련데이터의 모수 분포 저장\n",
        "X_train_scaled = std_scaler.transform(X_train)    # 훈련 데이터 스케일링\n",
        "X_test_scaled = std_scaler.transform(X_test)      # 테스트 데이터의 스케일링\n",
        "\n",
        "# 학습\n",
        "SVM_linear_model_after_scale = svm.SVC(kernel='linear')\n",
        "SVM_linear_model_after_scale.fit(X_train_scaled,y_train)\n",
        "svc_linear_prediction_after_scaled = SVM_linear_model_after_scale.predict(X_test_scaled)"
      ],
      "execution_count": 45,
      "outputs": []
    },
    {
      "cell_type": "code",
      "metadata": {
        "colab": {
          "base_uri": "https://localhost:8080/"
        },
        "id": "8-M0GDwKOmSl",
        "outputId": "1c4c6292-5299-468b-c0bf-cdf4d5bae8ca"
      },
      "source": [
        "# Scaling 수행 전 결과\n",
        "print('SVM accuracy = ', metrics.accuracy_score(svc_linear_prediction_before_scale,y_test))\n",
        "before_scaling_report = classification_report(y_test,svc_linear_prediction_before_scale)\n",
        "print(before_scaling_report)\n",
        "\n",
        "# Scaling 수행 후 결과\n",
        "print('SVM accuracy = ', metrics.accuracy_score(svc_linear_prediction_after_scaled ,y_test))\n",
        "after_scaling_report = classification_report(y_test,svc_linear_prediction_after_scaled)\n",
        "print(after_scaling_report)"
      ],
      "execution_count": 46,
      "outputs": [
        {
          "output_type": "stream",
          "text": [
            "SVM accuracy =  0.7666666666666667\n",
            "              precision    recall  f1-score   support\n",
            "\n",
            "           0       1.00      1.00      1.00        91\n",
            "           1       0.38      0.95      0.55        22\n",
            "           2       0.75      0.08      0.15        37\n",
            "\n",
            "    accuracy                           0.77       150\n",
            "   macro avg       0.71      0.68      0.56       150\n",
            "weighted avg       0.85      0.77      0.72       150\n",
            "\n",
            "SVM accuracy =  0.7666666666666667\n",
            "              precision    recall  f1-score   support\n",
            "\n",
            "           0       1.00      1.00      1.00        91\n",
            "           1       0.38      0.95      0.55        22\n",
            "           2       0.75      0.08      0.15        37\n",
            "\n",
            "    accuracy                           0.77       150\n",
            "   macro avg       0.71      0.68      0.56       150\n",
            "weighted avg       0.85      0.77      0.72       150\n",
            "\n"
          ],
          "name": "stdout"
        }
      ]
    },
    {
      "cell_type": "markdown",
      "metadata": {
        "id": "rg5c0jRHO2CE"
      },
      "source": [
        "**- kernel = 'sigmoid'**"
      ]
    },
    {
      "cell_type": "code",
      "metadata": {
        "id": "-3WXF7aBOmUs"
      },
      "source": [
        "# Scaling을 수행하지 않고 학습\n",
        "from sklearn import svm\n",
        "from sklearn import metrics\n",
        "from sklearn.metrics import classification_report,confusion_matrix\n",
        "from sklearn.metrics import accuracy_score, f1_score\n",
        "\n",
        "SVM_sigmoid_model_before_scale = svm.SVC(kernel='sigmoid')\n",
        "SVM_sigmoid_model_before_scale.fit(X_train,y_train)\n",
        "\n",
        "svc_sigmoid_prediction_before_scale = SVM_sigmoid_model_before_scale.predict(X_test)"
      ],
      "execution_count": 47,
      "outputs": []
    },
    {
      "cell_type": "code",
      "metadata": {
        "id": "Z4tfzn-rOmYf"
      },
      "source": [
        "# Scaling을 수행한 후 학습\n",
        "from sklearn.preprocessing import StandardScaler\n",
        "\n",
        "std_scaler = StandardScaler()     # 변형 객체 생성\n",
        "std_scaler.fit(X_train)           # 훈련데이터의 모수 분포 저장\n",
        "X_train_scaled = std_scaler.transform(X_train)    # 훈련 데이터 스케일링\n",
        "X_test_scaled = std_scaler.transform(X_test)      # 테스트 데이터의 스케일링\n",
        "\n",
        "# 학습\n",
        "SVM_sigmoid_model_after_scale = svm.SVC(kernel='sigmoid')\n",
        "SVM_sigmoid_model_after_scale.fit(X_train_scaled,y_train)\n",
        "svc_sigmoid_prediction_after_scaled = SVM_sigmoid_model_after_scale.predict(X_test_scaled)"
      ],
      "execution_count": 48,
      "outputs": []
    },
    {
      "cell_type": "code",
      "metadata": {
        "colab": {
          "base_uri": "https://localhost:8080/"
        },
        "id": "hZ8-0TWaOmbV",
        "outputId": "a187e6de-ee1f-4271-d7a3-b5e4d96a0121"
      },
      "source": [
        "# Scaling 수행 전 결과\n",
        "print('SVM accuracy = ', metrics.accuracy_score(svc_sigmoid_prediction_before_scale,y_test))\n",
        "before_scaling_report = classification_report(y_test,svc_sigmoid_prediction_before_scale)\n",
        "print(before_scaling_report)\n",
        "\n",
        "# Scaling 수행 후 결과\n",
        "print('SVM accuracy = ', metrics.accuracy_score(svc_sigmoid_prediction_after_scaled ,y_test))\n",
        "after_scaling_report = classification_report(y_test,svc_sigmoid_prediction_after_scaled)\n",
        "print(after_scaling_report)"
      ],
      "execution_count": 49,
      "outputs": [
        {
          "output_type": "stream",
          "text": [
            "SVM accuracy =  0.6066666666666667\n",
            "              precision    recall  f1-score   support\n",
            "\n",
            "           0       0.61      1.00      0.76        91\n",
            "           1       0.00      0.00      0.00        22\n",
            "           2       0.00      0.00      0.00        37\n",
            "\n",
            "    accuracy                           0.61       150\n",
            "   macro avg       0.20      0.33      0.25       150\n",
            "weighted avg       0.37      0.61      0.46       150\n",
            "\n",
            "SVM accuracy =  0.7466666666666667\n",
            "              precision    recall  f1-score   support\n",
            "\n",
            "           0       0.99      1.00      0.99        91\n",
            "           1       0.35      0.82      0.49        22\n",
            "           2       0.43      0.08      0.14        37\n",
            "\n",
            "    accuracy                           0.75       150\n",
            "   macro avg       0.59      0.63      0.54       150\n",
            "weighted avg       0.76      0.75      0.71       150\n",
            "\n"
          ],
          "name": "stdout"
        },
        {
          "output_type": "stream",
          "text": [
            "/usr/local/lib/python3.7/dist-packages/sklearn/metrics/_classification.py:1272: UndefinedMetricWarning: Precision and F-score are ill-defined and being set to 0.0 in labels with no predicted samples. Use `zero_division` parameter to control this behavior.\n",
            "  _warn_prf(average, modifier, msg_start, len(result))\n"
          ],
          "name": "stderr"
        }
      ]
    },
    {
      "cell_type": "markdown",
      "metadata": {
        "id": "0JR1lbHjPLXG"
      },
      "source": [
        "*   **kernel = 'poly'**\n",
        "\n"
      ]
    },
    {
      "cell_type": "code",
      "metadata": {
        "id": "zOo7Pg3dPTb_"
      },
      "source": [
        "# Scaling을 수행하지 않고 학습\n",
        "from sklearn import svm\n",
        "from sklearn import metrics\n",
        "from sklearn.metrics import classification_report,confusion_matrix\n",
        "from sklearn.metrics import accuracy_score, f1_score\n",
        "\n",
        "SVM_poly_model_before_scale = svm.SVC(kernel='poly')\n",
        "SVM_poly_model_before_scale.fit(X_train,y_train)\n",
        "\n",
        "svc_poly_prediction_before_scale = SVM_poly_model_before_scale.predict(X_test)"
      ],
      "execution_count": 50,
      "outputs": []
    },
    {
      "cell_type": "code",
      "metadata": {
        "id": "5bH2n7EwPTfU"
      },
      "source": [
        "# Scaling을 수행한 후 학습\n",
        "from sklearn.preprocessing import StandardScaler\n",
        "\n",
        "std_scaler = StandardScaler()     # 변형 객체 생성\n",
        "std_scaler.fit(X_train)           # 훈련데이터의 모수 분포 저장\n",
        "X_train_scaled = std_scaler.transform(X_train)    # 훈련 데이터 스케일링\n",
        "X_test_scaled = std_scaler.transform(X_test)      # 테스트 데이터의 스케일링\n",
        "\n",
        "# 학습\n",
        "SVM_poly_model_after_scale = svm.SVC(kernel='poly')\n",
        "SVM_poly_model_after_scale.fit(X_train_scaled,y_train)\n",
        "svc_poly_prediction_after_scaled = SVM_poly_model_after_scale.predict(X_test_scaled)"
      ],
      "execution_count": 51,
      "outputs": []
    },
    {
      "cell_type": "code",
      "metadata": {
        "colab": {
          "base_uri": "https://localhost:8080/"
        },
        "id": "7Yc6cbzIPThi",
        "outputId": "f3b638d9-7a76-4a0e-fc1f-1337b8886695"
      },
      "source": [
        "# Scaling 수행 전 결과\n",
        "print('SVM accuracy = ', metrics.accuracy_score(svc_poly_prediction_before_scale,y_test))\n",
        "before_scaling_report = classification_report(y_test,svc_poly_prediction_before_scale)\n",
        "print(before_scaling_report)\n",
        "\n",
        "# Scaling 수행 후 결과\n",
        "print('SVM accuracy = ', metrics.accuracy_score(svc_poly_prediction_after_scaled ,y_test))\n",
        "after_scaling_report = classification_report(y_test,svc_poly_prediction_after_scaled)\n",
        "print(after_scaling_report)"
      ],
      "execution_count": 52,
      "outputs": [
        {
          "output_type": "stream",
          "text": [
            "SVM accuracy =  0.6066666666666667\n",
            "              precision    recall  f1-score   support\n",
            "\n",
            "           0       0.61      1.00      0.76        91\n",
            "           1       0.00      0.00      0.00        22\n",
            "           2       0.00      0.00      0.00        37\n",
            "\n",
            "    accuracy                           0.61       150\n",
            "   macro avg       0.20      0.33      0.25       150\n",
            "weighted avg       0.37      0.61      0.46       150\n",
            "\n",
            "SVM accuracy =  0.7933333333333333\n",
            "              precision    recall  f1-score   support\n",
            "\n",
            "           0       1.00      1.00      1.00        91\n",
            "           1       0.41      0.95      0.58        22\n",
            "           2       0.88      0.19      0.31        37\n",
            "\n",
            "    accuracy                           0.79       150\n",
            "   macro avg       0.76      0.71      0.63       150\n",
            "weighted avg       0.88      0.79      0.77       150\n",
            "\n"
          ],
          "name": "stdout"
        },
        {
          "output_type": "stream",
          "text": [
            "/usr/local/lib/python3.7/dist-packages/sklearn/metrics/_classification.py:1272: UndefinedMetricWarning: Precision and F-score are ill-defined and being set to 0.0 in labels with no predicted samples. Use `zero_division` parameter to control this behavior.\n",
            "  _warn_prf(average, modifier, msg_start, len(result))\n"
          ],
          "name": "stderr"
        }
      ]
    },
    {
      "cell_type": "markdown",
      "metadata": {
        "id": "6xHgEIR9FPYa"
      },
      "source": [
        "# SVM 모델 내에서 C 값을 증가시켜 복잡한 모델로 학습"
      ]
    },
    {
      "cell_type": "code",
      "metadata": {
        "id": "9KcCEfpMFnO6"
      },
      "source": [
        "# Scaling을 수행하지 않고 학습\n",
        "from sklearn.model_selection import train_test_split\n",
        "from sklearn import svm\n",
        "from sklearn import metrics\n",
        "from sklearn.metrics import classification_report,confusion_matrix\n",
        "from sklearn.metrics import accuracy_score, f1_score\n",
        "\n",
        "SVM_model_before_scale4 = svm.SVC(C=10.0)\n",
        "SVM_model_before_scale4.fit(X_train,y_train)\n",
        "\n",
        "svc_prediction_before_scale4 = SVM_model_before_scale4.predict(X_test)\n"
      ],
      "execution_count": 53,
      "outputs": []
    },
    {
      "cell_type": "code",
      "metadata": {
        "id": "GXmC4WyVEeY4"
      },
      "source": [
        "# Scaling을 수행한 후 학습\n",
        "from sklearn.preprocessing import StandardScaler\n",
        "\n",
        "std_scaler = StandardScaler()     # 변형 객체 생성\n",
        "std_scaler.fit(X_train)           # 훈련데이터의 모수 분포 저장\n",
        "X_train_scaled = std_scaler.transform(X_train)    # 훈련 데이터 스케일링\n",
        "X_test_scaled = std_scaler.transform(X_test)      # 테스트 데이터의 스케일링\n",
        "\n",
        "# 학습\n",
        "SVM_model_after_scale4 = svm.SVC(C=10.0)\n",
        "SVM_model_after_scale4.fit(X_train_scaled,y_train)\n",
        "svc_prediction_after_scaled4 = SVM_model_after_scale4.predict(X_test_scaled)"
      ],
      "execution_count": 54,
      "outputs": []
    },
    {
      "cell_type": "code",
      "metadata": {
        "colab": {
          "base_uri": "https://localhost:8080/"
        },
        "id": "TC9AzQMJFtf8",
        "outputId": "e138d4d3-5da1-4dff-c0dc-be6f896a8179"
      },
      "source": [
        "# Scaling 수행 전 결과\n",
        "print('SVM accuracy = ', metrics.accuracy_score(svc_prediction_before_scale4,y_test))\n",
        "before_scaling_report4 = classification_report(y_test,svc_prediction_before_scale4)\n",
        "print(before_scaling_report4)\n",
        "\n",
        "print('SVM accuracy = ', metrics.accuracy_score(svc_prediction_after_scaled4, y_test))\n",
        "after_scaling_report4 = classification_report(y_test,svc_prediction_after_scaled4)\n",
        "print(after_scaling_report4)\n"
      ],
      "execution_count": 55,
      "outputs": [
        {
          "output_type": "stream",
          "text": [
            "SVM accuracy =  0.6066666666666667\n",
            "              precision    recall  f1-score   support\n",
            "\n",
            "           0       0.61      1.00      0.76        91\n",
            "           1       0.00      0.00      0.00        22\n",
            "           2       0.00      0.00      0.00        37\n",
            "\n",
            "    accuracy                           0.61       150\n",
            "   macro avg       0.20      0.33      0.25       150\n",
            "weighted avg       0.37      0.61      0.46       150\n",
            "\n",
            "SVM accuracy =  0.7666666666666667\n",
            "              precision    recall  f1-score   support\n",
            "\n",
            "           0       1.00      1.00      1.00        91\n",
            "           1       0.32      0.55      0.41        22\n",
            "           2       0.55      0.32      0.41        37\n",
            "\n",
            "    accuracy                           0.77       150\n",
            "   macro avg       0.62      0.62      0.60       150\n",
            "weighted avg       0.79      0.77      0.77       150\n",
            "\n"
          ],
          "name": "stdout"
        },
        {
          "output_type": "stream",
          "text": [
            "/usr/local/lib/python3.7/dist-packages/sklearn/metrics/_classification.py:1272: UndefinedMetricWarning: Precision and F-score are ill-defined and being set to 0.0 in labels with no predicted samples. Use `zero_division` parameter to control this behavior.\n",
            "  _warn_prf(average, modifier, msg_start, len(result))\n"
          ],
          "name": "stderr"
        }
      ]
    },
    {
      "cell_type": "code",
      "metadata": {
        "colab": {
          "base_uri": "https://localhost:8080/",
          "height": 279
        },
        "id": "g3drc7Sf3EB5",
        "outputId": "1c89e3c1-63ab-4b83-9261-bcee54506e97"
      },
      "source": [
        "# 오차행렬 시각화 - Scaling 전\n",
        "import matplotlib.pyplot as plt\n",
        "import seaborn as sns\n",
        "sns.heatmap(confusion_matrix(y_test, svc_prediction_before_scale4), annot=True, cmap='Reds')\n",
        "plt.xlabel('Predict')\n",
        "plt.ylabel('Actual')\n",
        "plt.show()"
      ],
      "execution_count": 56,
      "outputs": [
        {
          "output_type": "display_data",
          "data": {
            "image/png": "[encoded data removed]",
            "text/plain": [
              "<Figure size 432x288 with 2 Axes>"
            ]
          },
          "metadata": {
            "tags": [],
            "needs_background": "light"
          }
        }
      ]
    },
    {
      "cell_type": "code",
      "metadata": {
        "colab": {
          "base_uri": "https://localhost:8080/",
          "height": 279
        },
        "id": "zH5Jt_7Q3EDo",
        "outputId": "2bdd3df1-a622-438b-ac16-f949885d077b"
      },
      "source": [
        "# 오차행렬 시각화 - Scaling 후\n",
        "import matplotlib.pyplot as plt\n",
        "import seaborn as sns\n",
        "sns.heatmap(confusion_matrix(y_test, svc_prediction_after_scaled4), annot=True, cmap='Reds')\n",
        "plt.xlabel('Predict')\n",
        "plt.ylabel('Actual')\n",
        "plt.show()"
      ],
      "execution_count": 57,
      "outputs": [
        {
          "output_type": "display_data",
          "data": {
            "image/png": "[encoded data removed]",
            "text/plain": [
              "<Figure size 432x288 with 2 Axes>"
            ]
          },
          "metadata": {
            "tags": [],
            "needs_background": "light"
          }
        }
      ]
    },
    {
      "cell_type": "markdown",
      "metadata": {
        "id": "XH_WoxE0F0a6"
      },
      "source": [
        " → 정확도에 차이를 보이지 않는 모습"
      ]
    },
    {
      "cell_type": "markdown",
      "metadata": {
        "id": "m7q2zSqoPv_W"
      },
      "source": [
        "**- kernel = 'linear'**"
      ]
    },
    {
      "cell_type": "code",
      "metadata": {
        "id": "M8hlsnggQkNv"
      },
      "source": [
        "# Scaling을 수행하지 않고 학습\n",
        "from sklearn import svm\n",
        "from sklearn import metrics\n",
        "from sklearn.metrics import classification_report,confusion_matrix\n",
        "from sklearn.metrics import accuracy_score, f1_score\n",
        "\n",
        "SVM_linear_model_before_scale = svm.SVC(kernel='linear')\n",
        "SVM_linear_model_before_scale.fit(X_train,y_train)\n",
        "\n",
        "svc_linear_prediction_before_scale = SVM_linear_model_before_scale.predict(X_test)"
      ],
      "execution_count": 58,
      "outputs": []
    },
    {
      "cell_type": "code",
      "metadata": {
        "id": "CaqSBRzNQkP2"
      },
      "source": [
        "# Scaling을 수행한 후 학습\n",
        "from sklearn.preprocessing import StandardScaler\n",
        "\n",
        "std_scaler = StandardScaler()     # 변형 객체 생성\n",
        "std_scaler.fit(X_train)           # 훈련데이터의 모수 분포 저장\n",
        "X_train_scaled = std_scaler.transform(X_train)    # 훈련 데이터 스케일링\n",
        "X_test_scaled = std_scaler.transform(X_test)      # 테스트 데이터의 스케일링\n",
        "\n",
        "# 학습\n",
        "SVM_linear_model_after_scale = svm.SVC(kernel='linear')\n",
        "SVM_linear_model_after_scale.fit(X_train_scaled,y_train)\n",
        "svc_linear_prediction_after_scaled = SVM_linear_model_after_scale.predict(X_test_scaled)"
      ],
      "execution_count": 59,
      "outputs": []
    },
    {
      "cell_type": "code",
      "metadata": {
        "colab": {
          "base_uri": "https://localhost:8080/"
        },
        "id": "w2toAiOKQkbP",
        "outputId": "db1ed845-08a6-41d6-9040-22ab7dce6d55"
      },
      "source": [
        "# Scaling 수행 전 결과\n",
        "print('SVM accuracy = ', metrics.accuracy_score(svc_linear_prediction_before_scale,y_test))\n",
        "before_scaling_report = classification_report(y_test,svc_linear_prediction_before_scale)\n",
        "print(before_scaling_report)\n",
        "\n",
        "# Scaling 수행 후 결과\n",
        "print('SVM accuracy = ', metrics.accuracy_score(svc_linear_prediction_after_scaled ,y_test))\n",
        "after_scaling_report = classification_report(y_test,svc_linear_prediction_after_scaled)\n",
        "print(after_scaling_report)"
      ],
      "execution_count": 60,
      "outputs": [
        {
          "output_type": "stream",
          "text": [
            "SVM accuracy =  0.7666666666666667\n",
            "              precision    recall  f1-score   support\n",
            "\n",
            "           0       1.00      1.00      1.00        91\n",
            "           1       0.38      0.95      0.55        22\n",
            "           2       0.75      0.08      0.15        37\n",
            "\n",
            "    accuracy                           0.77       150\n",
            "   macro avg       0.71      0.68      0.56       150\n",
            "weighted avg       0.85      0.77      0.72       150\n",
            "\n",
            "SVM accuracy =  0.7666666666666667\n",
            "              precision    recall  f1-score   support\n",
            "\n",
            "           0       1.00      1.00      1.00        91\n",
            "           1       0.38      0.95      0.55        22\n",
            "           2       0.75      0.08      0.15        37\n",
            "\n",
            "    accuracy                           0.77       150\n",
            "   macro avg       0.71      0.68      0.56       150\n",
            "weighted avg       0.85      0.77      0.72       150\n",
            "\n"
          ],
          "name": "stdout"
        }
      ]
    },
    {
      "cell_type": "markdown",
      "metadata": {
        "id": "F6Ug2rcvP2NV"
      },
      "source": [
        "**- kernel = 'sigmoid'**"
      ]
    },
    {
      "cell_type": "code",
      "metadata": {
        "id": "w6rndishTqi6"
      },
      "source": [
        "# Scaling을 수행하지 않고 학습\n",
        "from sklearn import svm\n",
        "from sklearn import metrics\n",
        "from sklearn.metrics import classification_report,confusion_matrix\n",
        "from sklearn.metrics import accuracy_score, f1_score\n",
        "\n",
        "SVM_sigmoid_model_before_scale = svm.SVC(kernel='sigmoid')\n",
        "SVM_sigmoid_model_before_scale.fit(X_train,y_train)\n",
        "\n",
        "svc_sigmoid_prediction_before_scale = SVM_sigmoid_model_before_scale.predict(X_test)"
      ],
      "execution_count": 61,
      "outputs": []
    },
    {
      "cell_type": "code",
      "metadata": {
        "id": "IIkhFucYQtVz"
      },
      "source": [
        "# Scaling을 수행한 후 학습\n",
        "from sklearn.preprocessing import StandardScaler\n",
        "\n",
        "std_scaler = StandardScaler()     # 변형 객체 생성\n",
        "std_scaler.fit(X_train)           # 훈련데이터의 모수 분포 저장\n",
        "X_train_scaled = std_scaler.transform(X_train)    # 훈련 데이터 스케일링\n",
        "X_test_scaled = std_scaler.transform(X_test)      # 테스트 데이터의 스케일링\n",
        "\n",
        "# 학습\n",
        "SVM_sigmoid_model_after_scale = svm.SVC(kernel='sigmoid')\n",
        "SVM_sigmoid_model_after_scale.fit(X_train_scaled,y_train)\n",
        "svc_sigmoid_prediction_after_scaled = SVM_sigmoid_model_after_scale.predict(X_test_scaled)\n"
      ],
      "execution_count": 62,
      "outputs": []
    },
    {
      "cell_type": "code",
      "metadata": {
        "colab": {
          "base_uri": "https://localhost:8080/"
        },
        "id": "jA3YDkZhQtZN",
        "outputId": "c5c458d5-6f2d-451a-b5d5-b93da176277d"
      },
      "source": [
        "# Scaling 수행 전 결과\n",
        "print('SVM accuracy = ', metrics.accuracy_score(svc_sigmoid_prediction_before_scale,y_test))\n",
        "before_scaling_report = classification_report(y_test,svc_sigmoid_prediction_before_scale)\n",
        "print(before_scaling_report)\n",
        "\n",
        "# Scaling 수행 후 결과\n",
        "print('SVM accuracy = ', metrics.accuracy_score(svc_sigmoid_prediction_after_scaled ,y_test))\n",
        "after_scaling_report = classification_report(y_test,svc_sigmoid_prediction_after_scaled)\n",
        "print(after_scaling_report)"
      ],
      "execution_count": 63,
      "outputs": [
        {
          "output_type": "stream",
          "text": [
            "SVM accuracy =  0.6066666666666667\n",
            "              precision    recall  f1-score   support\n",
            "\n",
            "           0       0.61      1.00      0.76        91\n",
            "           1       0.00      0.00      0.00        22\n",
            "           2       0.00      0.00      0.00        37\n",
            "\n",
            "    accuracy                           0.61       150\n",
            "   macro avg       0.20      0.33      0.25       150\n",
            "weighted avg       0.37      0.61      0.46       150\n",
            "\n",
            "SVM accuracy =  0.7466666666666667\n",
            "              precision    recall  f1-score   support\n",
            "\n",
            "           0       0.99      1.00      0.99        91\n",
            "           1       0.35      0.82      0.49        22\n",
            "           2       0.43      0.08      0.14        37\n",
            "\n",
            "    accuracy                           0.75       150\n",
            "   macro avg       0.59      0.63      0.54       150\n",
            "weighted avg       0.76      0.75      0.71       150\n",
            "\n"
          ],
          "name": "stdout"
        },
        {
          "output_type": "stream",
          "text": [
            "/usr/local/lib/python3.7/dist-packages/sklearn/metrics/_classification.py:1272: UndefinedMetricWarning: Precision and F-score are ill-defined and being set to 0.0 in labels with no predicted samples. Use `zero_division` parameter to control this behavior.\n",
            "  _warn_prf(average, modifier, msg_start, len(result))\n"
          ],
          "name": "stderr"
        }
      ]
    },
    {
      "cell_type": "markdown",
      "metadata": {
        "id": "qy4WAMEGP7US"
      },
      "source": [
        "**- kernel = 'poly'**"
      ]
    },
    {
      "cell_type": "code",
      "metadata": {
        "id": "gOIjcxQaQHVc"
      },
      "source": [
        "# Scaling을 수행하지 않고 학습\n",
        "from sklearn import svm\n",
        "from sklearn import metrics\n",
        "from sklearn.metrics import classification_report,confusion_matrix\n",
        "from sklearn.metrics import accuracy_score, f1_score\n",
        "\n",
        "SVM_poly_model_before_scale = svm.SVC(kernel='poly')\n",
        "SVM_poly_model_before_scale.fit(X_train,y_train)\n",
        "\n",
        "svc_poly_prediction_before_scale = SVM_poly_model_before_scale.predict(X_test)"
      ],
      "execution_count": 64,
      "outputs": []
    },
    {
      "cell_type": "code",
      "metadata": {
        "id": "5DZpcF8PQIFn"
      },
      "source": [
        "# Scaling을 수행한 후 학습\n",
        "from sklearn.preprocessing import StandardScaler\n",
        "\n",
        "std_scaler = StandardScaler()     # 변형 객체 생성\n",
        "std_scaler.fit(X_train)           # 훈련데이터의 모수 분포 저장\n",
        "X_train_scaled = std_scaler.transform(X_train)    # 훈련 데이터 스케일링\n",
        "X_test_scaled = std_scaler.transform(X_test)      # 테스트 데이터의 스케일링\n",
        "\n",
        "# 학습\n",
        "SVM_poly_model_after_scale = svm.SVC(kernel='poly')\n",
        "SVM_poly_model_after_scale.fit(X_train_scaled,y_train)\n",
        "svc_poly_prediction_after_scaled = SVM_poly_model_after_scale.predict(X_test_scaled)"
      ],
      "execution_count": 65,
      "outputs": []
    },
    {
      "cell_type": "code",
      "metadata": {
        "colab": {
          "base_uri": "https://localhost:8080/"
        },
        "id": "OETvt0frQIHe",
        "outputId": "0b8977b7-6482-4c3f-d515-e63cbcb4dc87"
      },
      "source": [
        "# Scaling 수행 전 결과\n",
        "print('SVM accuracy = ', metrics.accuracy_score(svc_poly_prediction_before_scale,y_test))\n",
        "before_scaling_report = classification_report(y_test,svc_poly_prediction_before_scale)\n",
        "print(before_scaling_report)\n",
        "\n",
        "# Scaling 수행 후 결과\n",
        "print('SVM accuracy = ', metrics.accuracy_score(svc_poly_prediction_after_scaled ,y_test))\n",
        "after_scaling_report = classification_report(y_test,svc_poly_prediction_after_scaled)\n",
        "print(after_scaling_report)"
      ],
      "execution_count": 66,
      "outputs": [
        {
          "output_type": "stream",
          "text": [
            "SVM accuracy =  0.6066666666666667\n",
            "              precision    recall  f1-score   support\n",
            "\n",
            "           0       0.61      1.00      0.76        91\n",
            "           1       0.00      0.00      0.00        22\n",
            "           2       0.00      0.00      0.00        37\n",
            "\n",
            "    accuracy                           0.61       150\n",
            "   macro avg       0.20      0.33      0.25       150\n",
            "weighted avg       0.37      0.61      0.46       150\n",
            "\n",
            "SVM accuracy =  0.7933333333333333\n",
            "              precision    recall  f1-score   support\n",
            "\n",
            "           0       1.00      1.00      1.00        91\n",
            "           1       0.41      0.95      0.58        22\n",
            "           2       0.88      0.19      0.31        37\n",
            "\n",
            "    accuracy                           0.79       150\n",
            "   macro avg       0.76      0.71      0.63       150\n",
            "weighted avg       0.88      0.79      0.77       150\n",
            "\n"
          ],
          "name": "stdout"
        },
        {
          "output_type": "stream",
          "text": [
            "/usr/local/lib/python3.7/dist-packages/sklearn/metrics/_classification.py:1272: UndefinedMetricWarning: Precision and F-score are ill-defined and being set to 0.0 in labels with no predicted samples. Use `zero_division` parameter to control this behavior.\n",
            "  _warn_prf(average, modifier, msg_start, len(result))\n"
          ],
          "name": "stderr"
        }
      ]
    },
    {
      "cell_type": "markdown",
      "metadata": {
        "id": "mwRqpmwuH03F"
      },
      "source": [
        " → 결과 : **48% -> 약 79%** 의 정확도"
      ]
    }
  ]
}