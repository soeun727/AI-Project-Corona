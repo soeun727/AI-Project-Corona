{
  "nbformat": 4,
  "nbformat_minor": 0,
  "metadata": {
    "colab": {
      "name": "test1_regression",
      "provenance": [],
      "toc_visible": true,
      "authorship_tag": "ABX9TyPrMUGXoHDNPt8wpEj/6tZU",
      "include_colab_link": true
    },
    "kernelspec": {
      "name": "python3",
      "display_name": "Python 3"
    },
    "language_info": {
      "name": "python"
    },
    "accelerator": "GPU"
  },
  "cells": [
    {
      "cell_type": "markdown",
      "metadata": {
        "id": "view-in-github",
        "colab_type": "text"
      },
      "source": [
        "<a href=\"https://colab.research.google.com/github/soeun727/AI-Project-Corona/blob/main/test1_regression.ipynb\" target=\"_parent\"><img src=\"https://colab.research.google.com/assets/colab-badge.svg\" alt=\"Open In Colab\"/></a>"
      ]
    },
    {
      "cell_type": "code",
      "metadata": {
        "id": "kXWn6xi0A6kz"
      },
      "source": [
        "# 회귀분석 test\n",
        "# https://zephyrus1111.tistory.com/52"
      ],
      "execution_count": null,
      "outputs": []
    },
    {
      "cell_type": "code",
      "metadata": {
        "colab": {
          "base_uri": "https://localhost:8080/"
        },
        "id": "44EH1RxF7eGe",
        "outputId": "01161958-8f96-4188-a0f6-f265577dad05"
      },
      "source": [
        "!git clone https://github.com/soeun727/AI-Project-Corona"
      ],
      "execution_count": null,
      "outputs": [
        {
          "output_type": "stream",
          "text": [
            "Cloning into 'AI-Project-Corona'...\n",
            "remote: Enumerating objects: 11, done.\u001b[K\n",
            "remote: Counting objects:   9% (1/11)\u001b[K\rremote: Counting objects:  18% (2/11)\u001b[K\rremote: Counting objects:  27% (3/11)\u001b[K\rremote: Counting objects:  36% (4/11)\u001b[K\rremote: Counting objects:  45% (5/11)\u001b[K\rremote: Counting objects:  54% (6/11)\u001b[K\rremote: Counting objects:  63% (7/11)\u001b[K\rremote: Counting objects:  72% (8/11)\u001b[K\rremote: Counting objects:  81% (9/11)\u001b[K\rremote: Counting objects:  90% (10/11)\u001b[K\rremote: Counting objects: 100% (11/11)\u001b[K\rremote: Counting objects: 100% (11/11), done.\u001b[K\n",
            "remote: Compressing objects:  16% (1/6)\u001b[K\rremote: Compressing objects:  33% (2/6)\u001b[K\rremote: Compressing objects:  50% (3/6)\u001b[K\rremote: Compressing objects:  66% (4/6)\u001b[K\rremote: Compressing objects:  83% (5/6)\u001b[K\rremote: Compressing objects: 100% (6/6)\u001b[K\rremote: Compressing objects: 100% (6/6), done.\u001b[K\n",
            "remote: Total 11 (delta 0), reused 0 (delta 0), pack-reused 0\u001b[K\n",
            "Unpacking objects:   9% (1/11)   \rUnpacking objects:  18% (2/11)   \rUnpacking objects:  27% (3/11)   \rUnpacking objects:  36% (4/11)   \rUnpacking objects:  45% (5/11)   \rUnpacking objects:  54% (6/11)   \rUnpacking objects:  63% (7/11)   \rUnpacking objects:  72% (8/11)   \rUnpacking objects:  81% (9/11)   \rUnpacking objects:  90% (10/11)   \rUnpacking objects: 100% (11/11)   \rUnpacking objects: 100% (11/11), done.\n"
          ],
          "name": "stdout"
        }
      ]
    },
    {
      "cell_type": "code",
      "metadata": {
        "colab": {
          "base_uri": "https://localhost:8080/"
        },
        "id": "v8RyX6C493TW",
        "outputId": "cb5d9095-493d-48a0-a380-2e66f9447d72"
      },
      "source": [
        "%cd /content/AI-Project-Corona"
      ],
      "execution_count": null,
      "outputs": [
        {
          "output_type": "stream",
          "text": [
            "/content/AI-Project-Corona\n"
          ],
          "name": "stdout"
        }
      ]
    },
    {
      "cell_type": "code",
      "metadata": {
        "id": "610KOWQk93lE"
      },
      "source": [
        "import pandas as pd\n",
        "import matplotlib.pyplot as plt\n",
        "import matplotlib\n",
        "matplotlib.rcParams['axes.unicode_minus'] = False ## 마이나스 '-' 표시 제대로 출력\n",
        " \n",
        "from statsmodels.formula.api import ols\n",
        "from sklearn.linear_model import LinearRegression\n",
        "#/content/AI-Project-Corona/dataset/toluca_company_dataset.csv\n",
        "df = pd.read_csv('./dataset/toluca_company_dataset.csv') ## 데이터 불러오기"
      ],
      "execution_count": null,
      "outputs": []
    },
    {
      "cell_type": "code",
      "metadata": {
        "colab": {
          "base_uri": "https://localhost:8080/",
          "height": 502
        },
        "id": "z_aivsdm93mz",
        "outputId": "4b4d3b3a-dde2-443d-f46a-85fa47318c87"
      },
      "source": [
        "## 시각화\n",
        "fig = plt.figure(figsize=(8,8))\n",
        "fig.set_facecolor('white')\n",
        " \n",
        "font_size = 15\n",
        "plt.scatter(df['Lot_size'],df['Work_hours']) ## 원 데이터 산포도\n",
        " \n",
        "plt.xlabel('Lot Size', fontsize=font_size)\n",
        "plt.ylabel('Work Hours',fontsize=font_size)\n",
        "plt.show()"
      ],
      "execution_count": null,
      "outputs": [
        {
          "output_type": "display_data",
          "data": {
            "image/png": "[encoded data removed]",
            "text/plain": [
              "<Figure size 576x576 with 1 Axes>"
            ]
          },
          "metadata": {
            "tags": []
          }
        }
      ]
    },
    {
      "cell_type": "code",
      "metadata": {
        "id": "uSa95Oot93oN"
      },
      "source": [
        "## states model 사용\n",
        "fit = ols('Work_hours ~ Lot_size',data=df).fit() ## 단순선형회귀모형 적합\n"
      ],
      "execution_count": null,
      "outputs": []
    },
    {
      "cell_type": "code",
      "metadata": {
        "colab": {
          "base_uri": "https://localhost:8080/",
          "height": 444
        },
        "id": "JZIhyOAv93pu",
        "outputId": "524409fc-4682-4600-f3cd-16afb19c0c50"
      },
      "source": [
        "fit.summary()"
      ],
      "execution_count": null,
      "outputs": [
        {
          "output_type": "execute_result",
          "data": {
            "text/html": [
              "<table class=\"simpletable\">\n",
              "<caption>OLS Regression Results</caption>\n",
              "<tr>\n",
              "  <th>Dep. Variable:</th>       <td>Work_hours</td>    <th>  R-squared:         </th> <td>   0.822</td>\n",
              "</tr>\n",
              "<tr>\n",
              "  <th>Model:</th>                   <td>OLS</td>       <th>  Adj. R-squared:    </th> <td>   0.814</td>\n",
              "</tr>\n",
              "<tr>\n",
              "  <th>Method:</th>             <td>Least Squares</td>  <th>  F-statistic:       </th> <td>   105.9</td>\n",
              "</tr>\n",
              "<tr>\n",
              "  <th>Date:</th>             <td>Sat, 29 May 2021</td> <th>  Prob (F-statistic):</th> <td>4.45e-10</td>\n",
              "</tr>\n",
              "<tr>\n",
              "  <th>Time:</th>                 <td>16:40:24</td>     <th>  Log-Likelihood:    </th> <td> -131.64</td>\n",
              "</tr>\n",
              "<tr>\n",
              "  <th>No. Observations:</th>      <td>    25</td>      <th>  AIC:               </th> <td>   267.3</td>\n",
              "</tr>\n",
              "<tr>\n",
              "  <th>Df Residuals:</th>          <td>    23</td>      <th>  BIC:               </th> <td>   269.7</td>\n",
              "</tr>\n",
              "<tr>\n",
              "  <th>Df Model:</th>              <td>     1</td>      <th>                     </th>     <td> </td>   \n",
              "</tr>\n",
              "<tr>\n",
              "  <th>Covariance Type:</th>      <td>nonrobust</td>    <th>                     </th>     <td> </td>   \n",
              "</tr>\n",
              "</table>\n",
              "<table class=\"simpletable\">\n",
              "<tr>\n",
              "      <td></td>         <th>coef</th>     <th>std err</th>      <th>t</th>      <th>P>|t|</th>  <th>[0.025</th>    <th>0.975]</th>  \n",
              "</tr>\n",
              "<tr>\n",
              "  <th>Intercept</th> <td>   62.3659</td> <td>   26.177</td> <td>    2.382</td> <td> 0.026</td> <td>    8.214</td> <td>  116.518</td>\n",
              "</tr>\n",
              "<tr>\n",
              "  <th>Lot_size</th>  <td>    3.5702</td> <td>    0.347</td> <td>   10.290</td> <td> 0.000</td> <td>    2.852</td> <td>    4.288</td>\n",
              "</tr>\n",
              "</table>\n",
              "<table class=\"simpletable\">\n",
              "<tr>\n",
              "  <th>Omnibus:</th>       <td> 0.608</td> <th>  Durbin-Watson:     </th> <td>   1.432</td>\n",
              "</tr>\n",
              "<tr>\n",
              "  <th>Prob(Omnibus):</th> <td> 0.738</td> <th>  Jarque-Bera (JB):  </th> <td>   0.684</td>\n",
              "</tr>\n",
              "<tr>\n",
              "  <th>Skew:</th>          <td> 0.298</td> <th>  Prob(JB):          </th> <td>   0.710</td>\n",
              "</tr>\n",
              "<tr>\n",
              "  <th>Kurtosis:</th>      <td> 2.450</td> <th>  Cond. No.          </th> <td>    202.</td>\n",
              "</tr>\n",
              "</table><br/><br/>Warnings:<br/>[1] Standard Errors assume that the covariance matrix of the errors is correctly specified."
            ],
            "text/plain": [
              "<class 'statsmodels.iolib.summary.Summary'>\n",
              "\"\"\"\n",
              "                            OLS Regression Results                            \n",
              "==============================================================================\n",
              "Dep. Variable:             Work_hours   R-squared:                       0.822\n",
              "Model:                            OLS   Adj. R-squared:                  0.814\n",
              "Method:                 Least Squares   F-statistic:                     105.9\n",
              "Date:                Sat, 29 May 2021   Prob (F-statistic):           4.45e-10\n",
              "Time:                        16:40:24   Log-Likelihood:                -131.64\n",
              "No. Observations:                  25   AIC:                             267.3\n",
              "Df Residuals:                      23   BIC:                             269.7\n",
              "Df Model:                           1                                         \n",
              "Covariance Type:            nonrobust                                         \n",
              "==============================================================================\n",
              "                 coef    std err          t      P>|t|      [0.025      0.975]\n",
              "------------------------------------------------------------------------------\n",
              "Intercept     62.3659     26.177      2.382      0.026       8.214     116.518\n",
              "Lot_size       3.5702      0.347     10.290      0.000       2.852       4.288\n",
              "==============================================================================\n",
              "Omnibus:                        0.608   Durbin-Watson:                   1.432\n",
              "Prob(Omnibus):                  0.738   Jarque-Bera (JB):                0.684\n",
              "Skew:                           0.298   Prob(JB):                        0.710\n",
              "Kurtosis:                       2.450   Cond. No.                         202.\n",
              "==============================================================================\n",
              "\n",
              "Warnings:\n",
              "[1] Standard Errors assume that the covariance matrix of the errors is correctly specified.\n",
              "\"\"\""
            ]
          },
          "metadata": {
            "tags": []
          },
          "execution_count": 31
        }
      ]
    },
    {
      "cell_type": "code",
      "metadata": {
        "id": "BvFQDOLJ-pq5"
      },
      "source": [
        "## states model 사용\n",
        "fit = ols('Work_hours ~ Lot_size - 1',data=df).fit() ## 단순선형회귀모형 적합"
      ],
      "execution_count": null,
      "outputs": []
    },
    {
      "cell_type": "code",
      "metadata": {
        "colab": {
          "base_uri": "https://localhost:8080/"
        },
        "id": "dRIXhz5p-ps_",
        "outputId": "b1fabe56-dd00-4f2e-8d88-27d8664844cd"
      },
      "source": [
        "## 회귀 계수\n",
        "#print(fit.params.Intercept) ## 절편\n",
        "#print(fit.params.Lot_size) ## 기울기\n",
        "\n",
        "## 추정값\n",
        "fit.fittedvalues\n"
      ],
      "execution_count": null,
      "outputs": [
        {
          "output_type": "execute_result",
          "data": {
            "text/plain": [
              "0     346.973999\n",
              "1     130.115249\n",
              "2     216.858749\n",
              "3     390.345748\n",
              "4     303.602249\n",
              "5     260.230499\n",
              "6     520.460998\n",
              "7     346.973999\n",
              "8     433.717498\n",
              "9     216.858749\n",
              "10    173.486999\n",
              "11    303.602249\n",
              "12    390.345748\n",
              "13     86.743500\n",
              "14    477.089248\n",
              "15    433.717498\n",
              "16    130.115249\n",
              "17    216.858749\n",
              "18    390.345748\n",
              "19    477.089248\n",
              "20    130.115249\n",
              "21    390.345748\n",
              "22    173.486999\n",
              "23    346.973999\n",
              "24    303.602249\n",
              "dtype: float64"
            ]
          },
          "metadata": {
            "tags": []
          },
          "execution_count": 33
        }
      ]
    },
    {
      "cell_type": "code",
      "metadata": {
        "colab": {
          "base_uri": "https://localhost:8080/"
        },
        "id": "nAY4uxRg-pyR",
        "outputId": "9256d691-f114-4e78-be89-494ba7be028a"
      },
      "source": [
        "## 잔차\n",
        "fit.resid\n"
      ],
      "execution_count": null,
      "outputs": [
        {
          "output_type": "execute_result",
          "data": {
            "text/plain": [
              "0      52.026001\n",
              "1      -9.115249\n",
              "2       4.141251\n",
              "3     -14.345748\n",
              "4      57.397751\n",
              "5     -36.230499\n",
              "6      25.539002\n",
              "7       5.026001\n",
              "8     -80.717498\n",
              "9     -59.858749\n",
              "10    -13.486999\n",
              "11    -51.602249\n",
              "12     -1.345748\n",
              "13     26.256500\n",
              "14    -42.089248\n",
              "15    -13.717498\n",
              "16     81.884751\n",
              "17     51.141251\n",
              "18    -13.345748\n",
              "19    -56.089248\n",
              "20    142.884751\n",
              "21     77.654252\n",
              "22     70.513001\n",
              "23     -4.973999\n",
              "24     19.397751\n",
              "dtype: float64"
            ]
          },
          "metadata": {
            "tags": []
          },
          "execution_count": 34
        }
      ]
    },
    {
      "cell_type": "code",
      "metadata": {
        "colab": {
          "base_uri": "https://localhost:8080/"
        },
        "id": "ccNB-xH--p1j",
        "outputId": "99dad61d-cc9b-4503-faba-d55c43dfc086"
      },
      "source": [
        "## 예측값\n",
        "fit.predict(exog=dict(Lot_size=[40]))\n"
      ],
      "execution_count": null,
      "outputs": [
        {
          "output_type": "execute_result",
          "data": {
            "text/plain": [
              "0    173.486999\n",
              "dtype: float64"
            ]
          },
          "metadata": {
            "tags": []
          },
          "execution_count": 36
        }
      ]
    },
    {
      "cell_type": "code",
      "metadata": {
        "colab": {
          "base_uri": "https://localhost:8080/",
          "height": 502
        },
        "id": "hN_MOhM7-p29",
        "outputId": "bcfaab36-549a-4663-ca72-c5ea25f06c93"
      },
      "source": [
        "## 시각화\n",
        "fig = plt.figure(figsize=(8,8))\n",
        "fig.set_facecolor('white')\n",
        " \n",
        "font_size = 15\n",
        "plt.scatter(df['Lot_size'],df['Work_hours']) ## 원 데이터 산포도\n",
        "plt.plot(df['Lot_size'],fit.fittedvalues,color='red') ## 회귀직선 추가\n",
        " \n",
        "plt.xlabel('Lot Size', fontsize=font_size)\n",
        "plt.ylabel('Work Hours',fontsize=font_size)\n",
        "plt.show()"
      ],
      "execution_count": null,
      "outputs": [
        {
          "output_type": "display_data",
          "data": {
            "image/png": "[encoded data removed]",
            "text/plain": [
              "<Figure size 576x576 with 1 Axes>"
            ]
          },
          "metadata": {
            "tags": []
          }
        }
      ]
    },
    {
      "cell_type": "code",
      "metadata": {
        "colab": {
          "base_uri": "https://localhost:8080/",
          "height": 502
        },
        "id": "QOtYAGd_Abzy",
        "outputId": "76d84c2c-db57-4c77-e601-d9782b9e0f60"
      },
      "source": [
        "## 잔차도 Residual Plot\n",
        "fig = plt.figure(figsize=(8,8))\n",
        "fig.set_facecolor('white')\n",
        " \n",
        "font_size = 15\n",
        " \n",
        "plt.scatter(df['Lot_size'],fit.resid) ## 잔차도 출력\n",
        " \n",
        "plt.xlabel('Lot Size', fontsize=font_size)\n",
        "plt.ylabel('Residual', fontsize=font_size)\n",
        "plt.show()"
      ],
      "execution_count": null,
      "outputs": [
        {
          "output_type": "display_data",
          "data": {
            "image/png": "[encoded data removed]",
            "text/plain": [
              "<Figure size 576x576 with 1 Axes>"
            ]
          },
          "metadata": {
            "tags": []
          }
        }
      ]
    },
    {
      "cell_type": "code",
      "metadata": {
        "id": "BJcc6ZyXAb3L"
      },
      "source": [
        "# Scikit-learn을 이용하여 적합하기\n",
        "## sklearn linear regression 사용\n",
        "x = df['Lot_size'].values.reshape(-1,1) ## 차원 증가 시켜준다.\n",
        "y = df['Work_hours']\n",
        " \n",
        "fit = LinearRegression().fit(x,y) ## 단순선형회귀모형 적합"
      ],
      "execution_count": null,
      "outputs": []
    },
    {
      "cell_type": "code",
      "metadata": {
        "colab": {
          "base_uri": "https://localhost:8080/"
        },
        "id": "nLMt8dFnAb8r",
        "outputId": "d080f09d-e851-4170-da45-fc1a1be4b0b6"
      },
      "source": [
        "## 회귀 계수\n",
        "print(fit.intercept_) ## 절편\n",
        "print(fit.coef_) ## 기울기"
      ],
      "execution_count": null,
      "outputs": [
        {
          "output_type": "stream",
          "text": [
            "62.36585858585849\n",
            "[3.57020202]\n"
          ],
          "name": "stdout"
        }
      ]
    },
    {
      "cell_type": "code",
      "metadata": {
        "colab": {
          "base_uri": "https://localhost:8080/"
        },
        "id": "e_EVP60AApP2",
        "outputId": "13ec6299-5803-49c1-ac77-31584a42200e"
      },
      "source": [
        "## 추정값\n",
        "fit.predict(x)"
      ],
      "execution_count": null,
      "outputs": [
        {
          "output_type": "execute_result",
          "data": {
            "text/plain": [
              "array([347.9820202 , 169.47191919, 240.8759596 , 383.6840404 ,\n",
              "       312.28      , 276.5779798 , 490.79010101, 347.9820202 ,\n",
              "       419.38606061, 240.8759596 , 205.17393939, 312.28      ,\n",
              "       383.6840404 , 133.76989899, 455.08808081, 419.38606061,\n",
              "       169.47191919, 240.8759596 , 383.6840404 , 455.08808081,\n",
              "       169.47191919, 383.6840404 , 205.17393939, 347.9820202 ,\n",
              "       312.28      ])"
            ]
          },
          "metadata": {
            "tags": []
          },
          "execution_count": 41
        }
      ]
    },
    {
      "cell_type": "code",
      "metadata": {
        "colab": {
          "base_uri": "https://localhost:8080/"
        },
        "id": "E5cpVSGCApTA",
        "outputId": "5c0d8665-fec0-43ec-e5c4-e895083c55c1"
      },
      "source": [
        "## 잔차\n",
        "residual = y - fit.predict(x)\n",
        "print(residual)"
      ],
      "execution_count": null,
      "outputs": [
        {
          "output_type": "stream",
          "text": [
            "0      51.017980\n",
            "1     -48.471919\n",
            "2     -19.875960\n",
            "3      -7.684040\n",
            "4      48.720000\n",
            "5     -52.577980\n",
            "6      55.209899\n",
            "7       4.017980\n",
            "8     -66.386061\n",
            "9     -83.875960\n",
            "10    -45.173939\n",
            "11    -60.280000\n",
            "12      5.315960\n",
            "13    -20.769899\n",
            "14    -20.088081\n",
            "15      0.613939\n",
            "16     42.528081\n",
            "17     27.124040\n",
            "18     -6.684040\n",
            "19    -34.088081\n",
            "20    103.528081\n",
            "21     84.315960\n",
            "22     38.826061\n",
            "23     -5.982020\n",
            "24     10.720000\n",
            "Name: Work_hours, dtype: float64\n"
          ],
          "name": "stdout"
        }
      ]
    },
    {
      "cell_type": "code",
      "metadata": {
        "colab": {
          "base_uri": "https://localhost:8080/"
        },
        "id": "q651Mw4IApU0",
        "outputId": "6801a5e9-1c7d-4595-c541-e5323661ea5e"
      },
      "source": [
        "## 예측값\n",
        "fit.predict([[80]])"
      ],
      "execution_count": null,
      "outputs": [
        {
          "output_type": "execute_result",
          "data": {
            "text/plain": [
              "array([347.9820202])"
            ]
          },
          "metadata": {
            "tags": []
          },
          "execution_count": 44
        }
      ]
    },
    {
      "cell_type": "code",
      "metadata": {
        "id": "Y_fe1VXvA5Au"
      },
      "source": [
        ""
      ],
      "execution_count": null,
      "outputs": []
    },
    {
      "cell_type": "code",
      "metadata": {
        "id": "rcCnZGPbA5Db"
      },
      "source": [
        "# 예시코드에 따라 코로나 데이터셋에 적용해보기"
      ],
      "execution_count": null,
      "outputs": []
    },
    {
      "cell_type": "code",
      "metadata": {
        "colab": {
          "base_uri": "https://localhost:8080/"
        },
        "id": "ILURmy6IA5Fb",
        "outputId": "e90b98ff-4386-4c5f-dc39-8fb8d148dd37"
      },
      "source": [
        "!git clone https://github.com/soeun727/AI-Project-Corona"
      ],
      "execution_count": null,
      "outputs": [
        {
          "output_type": "stream",
          "text": [
            "fatal: destination path 'AI-Project-Corona' already exists and is not an empty directory.\n"
          ],
          "name": "stdout"
        }
      ]
    },
    {
      "cell_type": "code",
      "metadata": {
        "colab": {
          "base_uri": "https://localhost:8080/"
        },
        "id": "N-dKIutDBR5k",
        "outputId": "2ad9c1a8-24c6-4782-d68c-92f028e7160a"
      },
      "source": [
        "%cd /content/AI-Project-Corona"
      ],
      "execution_count": null,
      "outputs": [
        {
          "output_type": "stream",
          "text": [
            "/content/AI-Project-Corona\n"
          ],
          "name": "stdout"
        }
      ]
    },
    {
      "cell_type": "code",
      "metadata": {
        "id": "SebepoFVBf0G"
      },
      "source": [
        "import pandas as pd\n",
        "import matplotlib.pyplot as plt\n",
        "import matplotlib\n",
        "matplotlib.rcParams['axes.unicode_minus'] = False ## 마이나스 '-' 표시 제대로 출력\n",
        " \n",
        "from statsmodels.formula.api import ols\n",
        "from sklearn.linear_model import LinearRegression\n",
        "# /content/AI-Project-Corona/AI-Project-Corona/dataset/ML_korea_covid_19_dataset.xlsx\n",
        "df = pd.read_csv('./dataset/ML_korea_covid_19_dataset.xlsx') ## 데이터 불러오기"
      ],
      "execution_count": null,
      "outputs": []
    },
    {
      "cell_type": "code",
      "metadata": {
        "id": "rMlmx1ayBf5J"
      },
      "source": [
        ""
      ],
      "execution_count": null,
      "outputs": []
    }
  ]
}